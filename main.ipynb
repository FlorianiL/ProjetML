{
 "cells": [
  {
   "cell_type": "markdown",
   "metadata": {
    "collapsed": true,
    "pycharm": {
     "name": "#%% md\n"
    }
   },
   "source": [
    "# Projet Machine Learning"
   ]
  },
  {
   "cell_type": "markdown",
   "source": [
    "## Visualisation"
   ],
   "metadata": {
    "collapsed": false,
    "pycharm": {
     "name": "#%% md\n"
    }
   }
  },
  {
   "cell_type": "markdown",
   "source": [
    "Afficher les 10 premières lignes du set de données"
   ],
   "metadata": {
    "collapsed": false,
    "pycharm": {
     "name": "#%% md\n"
    }
   }
  },
  {
   "cell_type": "code",
   "execution_count": 7,
   "outputs": [],
   "source": [
    "import numpy as np\n",
    "import pandas as pd\n",
    "import matplotlib.pyplot as plt\n",
    "import seaborn as sns\n",
    "\n",
    "from sklearn.preprocessing import OrdinalEncoder, OneHotEncoder, StandardScaler\n",
    "from sklearn.preprocessing import MinMaxScaler\n",
    "\n",
    "from sklearn.compose import make_column_selector\n",
    "from sklearn.compose import ColumnTransformer\n",
    "from sklearn.feature_selection import SelectPercentile, chi2\n",
    "from sklearn.model_selection import GridSearchCV\n",
    "from sklearn.feature_selection import SelectFromModel, RFECV, SequentialFeatureSelector\n",
    "\n",
    "from sklearn.ensemble import RandomForestClassifier\n",
    "from sklearn.neighbors import KNeighborsClassifier\n",
    "from sklearn.linear_model import SGDClassifier\n",
    "from sklearn.neural_network import MLPClassifier"
   ],
   "metadata": {
    "collapsed": false,
    "pycharm": {
     "name": "#%%\n"
    }
   }
  },
  {
   "cell_type": "code",
   "execution_count": 8,
   "outputs": [
    {
     "data": {
      "text/plain": "   index                           MS_SubClass                   MS_Zoning  \\\n0    136   One_Story_1946_and_Newer_All_Styles     Residential_Low_Density   \n1    947  One_and_Half_Story_Finished_All_Ages     Residential_Low_Density   \n2    280   One_Story_1946_and_Newer_All_Styles     Residential_Low_Density   \n3   1572   One_Story_1946_and_Newer_All_Styles     Residential_Low_Density   \n4   1585              Two_Story_1946_and_Newer     Residential_Low_Density   \n5   1429   One_Story_1946_and_Newer_All_Styles     Residential_Low_Density   \n6   1483          One_Story_PUD_1946_and_Newer  Residential_Medium_Density   \n7   2797              Two_Story_1946_and_Newer     Residential_Low_Density   \n8   1254   One_Story_1946_and_Newer_All_Styles     Residential_Low_Density   \n9    838              Two_Story_1946_and_Newer     Residential_Low_Density   \n\n   Lot_Frontage  Lot_Area Street            Alley             Lot_Shape  \\\n0             0     19900   Pave  No_Alley_Access               Regular   \n1            48     12822   Pave  No_Alley_Access    Slightly_Irregular   \n2            64      6410   Pave  No_Alley_Access               Regular   \n3             0     15498   Pave  No_Alley_Access    Slightly_Irregular   \n4            85     12244   Pave  No_Alley_Access               Regular   \n5             0     11500   Pave  No_Alley_Access    Slightly_Irregular   \n6             0      4438   Pave  No_Alley_Access               Regular   \n7             0     21533   Pave  No_Alley_Access  Moderately_Irregular   \n8            60     10122   Pave  No_Alley_Access               Regular   \n9            43     10667   Pave  No_Alley_Access  Moderately_Irregular   \n\n  Land_Contour Utilities  ... Pool_Area  Pool_QC            Fence  \\\n0          Lvl    AllPub  ...         0  No_Pool         No_Fence   \n1          Lvl    AllPub  ...         0  No_Pool         No_Fence   \n2          HLS    AllPub  ...         0  No_Pool  Minimum_Privacy   \n3          Lvl    AllPub  ...         0  No_Pool         No_Fence   \n4          Lvl    AllPub  ...         0  No_Pool         No_Fence   \n5          Bnk    AllPub  ...         0  No_Pool         No_Fence   \n6          Lvl    AllPub  ...         0  No_Pool         No_Fence   \n7          Lvl    AllPub  ...         0  No_Pool         No_Fence   \n8          Lvl    AllPub  ...         0  No_Pool     Good_Privacy   \n9          Lvl    AllPub  ...         0  No_Pool         No_Fence   \n\n  Misc_Feature  Misc_Val  Mo_Sold Year_Sold Sale_Type Sale_Condition  y  \n0         None         0        7      2010       WD          Normal  C  \n1         None         0        8      2009       WD         Abnorml  B  \n2         None         0        5      2010       WD          Normal  E  \n3         None         0        5      2008       COD        Abnorml  A  \n4         None         0        8      2008       WD          Normal  A  \n5         None         0        3      2008       WD          Normal  C  \n6         None         0        1      2008       WD          Normal  D  \n7         None         0        8      2006       WD          Normal  B  \n8         None         0        8      2008       WD          Normal  E  \n9         None         0        4      2009     ConLw         Normal  B  \n\n[10 rows x 60 columns]",
      "text/html": "<div>\n<style scoped>\n    .dataframe tbody tr th:only-of-type {\n        vertical-align: middle;\n    }\n\n    .dataframe tbody tr th {\n        vertical-align: top;\n    }\n\n    .dataframe thead th {\n        text-align: right;\n    }\n</style>\n<table border=\"1\" class=\"dataframe\">\n  <thead>\n    <tr style=\"text-align: right;\">\n      <th></th>\n      <th>index</th>\n      <th>MS_SubClass</th>\n      <th>MS_Zoning</th>\n      <th>Lot_Frontage</th>\n      <th>Lot_Area</th>\n      <th>Street</th>\n      <th>Alley</th>\n      <th>Lot_Shape</th>\n      <th>Land_Contour</th>\n      <th>Utilities</th>\n      <th>...</th>\n      <th>Pool_Area</th>\n      <th>Pool_QC</th>\n      <th>Fence</th>\n      <th>Misc_Feature</th>\n      <th>Misc_Val</th>\n      <th>Mo_Sold</th>\n      <th>Year_Sold</th>\n      <th>Sale_Type</th>\n      <th>Sale_Condition</th>\n      <th>y</th>\n    </tr>\n  </thead>\n  <tbody>\n    <tr>\n      <th>0</th>\n      <td>136</td>\n      <td>One_Story_1946_and_Newer_All_Styles</td>\n      <td>Residential_Low_Density</td>\n      <td>0</td>\n      <td>19900</td>\n      <td>Pave</td>\n      <td>No_Alley_Access</td>\n      <td>Regular</td>\n      <td>Lvl</td>\n      <td>AllPub</td>\n      <td>...</td>\n      <td>0</td>\n      <td>No_Pool</td>\n      <td>No_Fence</td>\n      <td>None</td>\n      <td>0</td>\n      <td>7</td>\n      <td>2010</td>\n      <td>WD</td>\n      <td>Normal</td>\n      <td>C</td>\n    </tr>\n    <tr>\n      <th>1</th>\n      <td>947</td>\n      <td>One_and_Half_Story_Finished_All_Ages</td>\n      <td>Residential_Low_Density</td>\n      <td>48</td>\n      <td>12822</td>\n      <td>Pave</td>\n      <td>No_Alley_Access</td>\n      <td>Slightly_Irregular</td>\n      <td>Lvl</td>\n      <td>AllPub</td>\n      <td>...</td>\n      <td>0</td>\n      <td>No_Pool</td>\n      <td>No_Fence</td>\n      <td>None</td>\n      <td>0</td>\n      <td>8</td>\n      <td>2009</td>\n      <td>WD</td>\n      <td>Abnorml</td>\n      <td>B</td>\n    </tr>\n    <tr>\n      <th>2</th>\n      <td>280</td>\n      <td>One_Story_1946_and_Newer_All_Styles</td>\n      <td>Residential_Low_Density</td>\n      <td>64</td>\n      <td>6410</td>\n      <td>Pave</td>\n      <td>No_Alley_Access</td>\n      <td>Regular</td>\n      <td>HLS</td>\n      <td>AllPub</td>\n      <td>...</td>\n      <td>0</td>\n      <td>No_Pool</td>\n      <td>Minimum_Privacy</td>\n      <td>None</td>\n      <td>0</td>\n      <td>5</td>\n      <td>2010</td>\n      <td>WD</td>\n      <td>Normal</td>\n      <td>E</td>\n    </tr>\n    <tr>\n      <th>3</th>\n      <td>1572</td>\n      <td>One_Story_1946_and_Newer_All_Styles</td>\n      <td>Residential_Low_Density</td>\n      <td>0</td>\n      <td>15498</td>\n      <td>Pave</td>\n      <td>No_Alley_Access</td>\n      <td>Slightly_Irregular</td>\n      <td>Lvl</td>\n      <td>AllPub</td>\n      <td>...</td>\n      <td>0</td>\n      <td>No_Pool</td>\n      <td>No_Fence</td>\n      <td>None</td>\n      <td>0</td>\n      <td>5</td>\n      <td>2008</td>\n      <td>COD</td>\n      <td>Abnorml</td>\n      <td>A</td>\n    </tr>\n    <tr>\n      <th>4</th>\n      <td>1585</td>\n      <td>Two_Story_1946_and_Newer</td>\n      <td>Residential_Low_Density</td>\n      <td>85</td>\n      <td>12244</td>\n      <td>Pave</td>\n      <td>No_Alley_Access</td>\n      <td>Regular</td>\n      <td>Lvl</td>\n      <td>AllPub</td>\n      <td>...</td>\n      <td>0</td>\n      <td>No_Pool</td>\n      <td>No_Fence</td>\n      <td>None</td>\n      <td>0</td>\n      <td>8</td>\n      <td>2008</td>\n      <td>WD</td>\n      <td>Normal</td>\n      <td>A</td>\n    </tr>\n    <tr>\n      <th>5</th>\n      <td>1429</td>\n      <td>One_Story_1946_and_Newer_All_Styles</td>\n      <td>Residential_Low_Density</td>\n      <td>0</td>\n      <td>11500</td>\n      <td>Pave</td>\n      <td>No_Alley_Access</td>\n      <td>Slightly_Irregular</td>\n      <td>Bnk</td>\n      <td>AllPub</td>\n      <td>...</td>\n      <td>0</td>\n      <td>No_Pool</td>\n      <td>No_Fence</td>\n      <td>None</td>\n      <td>0</td>\n      <td>3</td>\n      <td>2008</td>\n      <td>WD</td>\n      <td>Normal</td>\n      <td>C</td>\n    </tr>\n    <tr>\n      <th>6</th>\n      <td>1483</td>\n      <td>One_Story_PUD_1946_and_Newer</td>\n      <td>Residential_Medium_Density</td>\n      <td>0</td>\n      <td>4438</td>\n      <td>Pave</td>\n      <td>No_Alley_Access</td>\n      <td>Regular</td>\n      <td>Lvl</td>\n      <td>AllPub</td>\n      <td>...</td>\n      <td>0</td>\n      <td>No_Pool</td>\n      <td>No_Fence</td>\n      <td>None</td>\n      <td>0</td>\n      <td>1</td>\n      <td>2008</td>\n      <td>WD</td>\n      <td>Normal</td>\n      <td>D</td>\n    </tr>\n    <tr>\n      <th>7</th>\n      <td>2797</td>\n      <td>Two_Story_1946_and_Newer</td>\n      <td>Residential_Low_Density</td>\n      <td>0</td>\n      <td>21533</td>\n      <td>Pave</td>\n      <td>No_Alley_Access</td>\n      <td>Moderately_Irregular</td>\n      <td>Lvl</td>\n      <td>AllPub</td>\n      <td>...</td>\n      <td>0</td>\n      <td>No_Pool</td>\n      <td>No_Fence</td>\n      <td>None</td>\n      <td>0</td>\n      <td>8</td>\n      <td>2006</td>\n      <td>WD</td>\n      <td>Normal</td>\n      <td>B</td>\n    </tr>\n    <tr>\n      <th>8</th>\n      <td>1254</td>\n      <td>One_Story_1946_and_Newer_All_Styles</td>\n      <td>Residential_Low_Density</td>\n      <td>60</td>\n      <td>10122</td>\n      <td>Pave</td>\n      <td>No_Alley_Access</td>\n      <td>Regular</td>\n      <td>Lvl</td>\n      <td>AllPub</td>\n      <td>...</td>\n      <td>0</td>\n      <td>No_Pool</td>\n      <td>Good_Privacy</td>\n      <td>None</td>\n      <td>0</td>\n      <td>8</td>\n      <td>2008</td>\n      <td>WD</td>\n      <td>Normal</td>\n      <td>E</td>\n    </tr>\n    <tr>\n      <th>9</th>\n      <td>838</td>\n      <td>Two_Story_1946_and_Newer</td>\n      <td>Residential_Low_Density</td>\n      <td>43</td>\n      <td>10667</td>\n      <td>Pave</td>\n      <td>No_Alley_Access</td>\n      <td>Moderately_Irregular</td>\n      <td>Lvl</td>\n      <td>AllPub</td>\n      <td>...</td>\n      <td>0</td>\n      <td>No_Pool</td>\n      <td>No_Fence</td>\n      <td>None</td>\n      <td>0</td>\n      <td>4</td>\n      <td>2009</td>\n      <td>ConLw</td>\n      <td>Normal</td>\n      <td>B</td>\n    </tr>\n  </tbody>\n</table>\n<p>10 rows × 60 columns</p>\n</div>"
     },
     "execution_count": 8,
     "metadata": {},
     "output_type": "execute_result"
    }
   ],
   "source": [
    "housing = pd.read_csv('D_train.csv')\n",
    "housing.head(n=10)"
   ],
   "metadata": {
    "collapsed": false,
    "pycharm": {
     "name": "#%%\n"
    }
   }
  },
  {
   "cell_type": "markdown",
   "source": [
    "Séparer le set de données en X et y"
   ],
   "metadata": {
    "collapsed": false
   }
  },
  {
   "cell_type": "code",
   "execution_count": 9,
   "outputs": [
    {
     "data": {
      "text/plain": "                            MS_SubClass                   MS_Zoning  \\\n0   One_Story_1946_and_Newer_All_Styles     Residential_Low_Density   \n1  One_and_Half_Story_Finished_All_Ages     Residential_Low_Density   \n2   One_Story_1946_and_Newer_All_Styles     Residential_Low_Density   \n3   One_Story_1946_and_Newer_All_Styles     Residential_Low_Density   \n4              Two_Story_1946_and_Newer     Residential_Low_Density   \n5   One_Story_1946_and_Newer_All_Styles     Residential_Low_Density   \n6          One_Story_PUD_1946_and_Newer  Residential_Medium_Density   \n7              Two_Story_1946_and_Newer     Residential_Low_Density   \n8   One_Story_1946_and_Newer_All_Styles     Residential_Low_Density   \n9              Two_Story_1946_and_Newer     Residential_Low_Density   \n\n   Lot_Frontage  Lot_Area Street            Alley             Lot_Shape  \\\n0             0     19900   Pave  No_Alley_Access               Regular   \n1            48     12822   Pave  No_Alley_Access    Slightly_Irregular   \n2            64      6410   Pave  No_Alley_Access               Regular   \n3             0     15498   Pave  No_Alley_Access    Slightly_Irregular   \n4            85     12244   Pave  No_Alley_Access               Regular   \n5             0     11500   Pave  No_Alley_Access    Slightly_Irregular   \n6             0      4438   Pave  No_Alley_Access               Regular   \n7             0     21533   Pave  No_Alley_Access  Moderately_Irregular   \n8            60     10122   Pave  No_Alley_Access               Regular   \n9            43     10667   Pave  No_Alley_Access  Moderately_Irregular   \n\n  Land_Contour Utilities Bldg_Type  ... Screen_Porch Pool_Area  Pool_QC  \\\n0          Lvl    AllPub    OneFam  ...            0         0  No_Pool   \n1          Lvl    AllPub    OneFam  ...          198         0  No_Pool   \n2          HLS    AllPub    OneFam  ...            0         0  No_Pool   \n3          Lvl    AllPub    OneFam  ...            0         0  No_Pool   \n4          Lvl    AllPub    OneFam  ...            0         0  No_Pool   \n5          Bnk    AllPub    OneFam  ...            0         0  No_Pool   \n6          Lvl    AllPub    TwnhsE  ...            0         0  No_Pool   \n7          Lvl    AllPub    OneFam  ...            0         0  No_Pool   \n8          Lvl    AllPub    OneFam  ...            0         0  No_Pool   \n9          Lvl    AllPub    OneFam  ...            0         0  No_Pool   \n\n             Fence  Misc_Feature Misc_Val Mo_Sold Year_Sold Sale_Type  \\\n0         No_Fence          None        0       7      2010       WD    \n1         No_Fence          None        0       8      2009       WD    \n2  Minimum_Privacy          None        0       5      2010       WD    \n3         No_Fence          None        0       5      2008       COD   \n4         No_Fence          None        0       8      2008       WD    \n5         No_Fence          None        0       3      2008       WD    \n6         No_Fence          None        0       1      2008       WD    \n7         No_Fence          None        0       8      2006       WD    \n8     Good_Privacy          None        0       8      2008       WD    \n9         No_Fence          None        0       4      2009     ConLw   \n\n  Sale_Condition  \n0         Normal  \n1        Abnorml  \n2         Normal  \n3        Abnorml  \n4         Normal  \n5         Normal  \n6         Normal  \n7         Normal  \n8         Normal  \n9         Normal  \n\n[10 rows x 58 columns]",
      "text/html": "<div>\n<style scoped>\n    .dataframe tbody tr th:only-of-type {\n        vertical-align: middle;\n    }\n\n    .dataframe tbody tr th {\n        vertical-align: top;\n    }\n\n    .dataframe thead th {\n        text-align: right;\n    }\n</style>\n<table border=\"1\" class=\"dataframe\">\n  <thead>\n    <tr style=\"text-align: right;\">\n      <th></th>\n      <th>MS_SubClass</th>\n      <th>MS_Zoning</th>\n      <th>Lot_Frontage</th>\n      <th>Lot_Area</th>\n      <th>Street</th>\n      <th>Alley</th>\n      <th>Lot_Shape</th>\n      <th>Land_Contour</th>\n      <th>Utilities</th>\n      <th>Bldg_Type</th>\n      <th>...</th>\n      <th>Screen_Porch</th>\n      <th>Pool_Area</th>\n      <th>Pool_QC</th>\n      <th>Fence</th>\n      <th>Misc_Feature</th>\n      <th>Misc_Val</th>\n      <th>Mo_Sold</th>\n      <th>Year_Sold</th>\n      <th>Sale_Type</th>\n      <th>Sale_Condition</th>\n    </tr>\n  </thead>\n  <tbody>\n    <tr>\n      <th>0</th>\n      <td>One_Story_1946_and_Newer_All_Styles</td>\n      <td>Residential_Low_Density</td>\n      <td>0</td>\n      <td>19900</td>\n      <td>Pave</td>\n      <td>No_Alley_Access</td>\n      <td>Regular</td>\n      <td>Lvl</td>\n      <td>AllPub</td>\n      <td>OneFam</td>\n      <td>...</td>\n      <td>0</td>\n      <td>0</td>\n      <td>No_Pool</td>\n      <td>No_Fence</td>\n      <td>None</td>\n      <td>0</td>\n      <td>7</td>\n      <td>2010</td>\n      <td>WD</td>\n      <td>Normal</td>\n    </tr>\n    <tr>\n      <th>1</th>\n      <td>One_and_Half_Story_Finished_All_Ages</td>\n      <td>Residential_Low_Density</td>\n      <td>48</td>\n      <td>12822</td>\n      <td>Pave</td>\n      <td>No_Alley_Access</td>\n      <td>Slightly_Irregular</td>\n      <td>Lvl</td>\n      <td>AllPub</td>\n      <td>OneFam</td>\n      <td>...</td>\n      <td>198</td>\n      <td>0</td>\n      <td>No_Pool</td>\n      <td>No_Fence</td>\n      <td>None</td>\n      <td>0</td>\n      <td>8</td>\n      <td>2009</td>\n      <td>WD</td>\n      <td>Abnorml</td>\n    </tr>\n    <tr>\n      <th>2</th>\n      <td>One_Story_1946_and_Newer_All_Styles</td>\n      <td>Residential_Low_Density</td>\n      <td>64</td>\n      <td>6410</td>\n      <td>Pave</td>\n      <td>No_Alley_Access</td>\n      <td>Regular</td>\n      <td>HLS</td>\n      <td>AllPub</td>\n      <td>OneFam</td>\n      <td>...</td>\n      <td>0</td>\n      <td>0</td>\n      <td>No_Pool</td>\n      <td>Minimum_Privacy</td>\n      <td>None</td>\n      <td>0</td>\n      <td>5</td>\n      <td>2010</td>\n      <td>WD</td>\n      <td>Normal</td>\n    </tr>\n    <tr>\n      <th>3</th>\n      <td>One_Story_1946_and_Newer_All_Styles</td>\n      <td>Residential_Low_Density</td>\n      <td>0</td>\n      <td>15498</td>\n      <td>Pave</td>\n      <td>No_Alley_Access</td>\n      <td>Slightly_Irregular</td>\n      <td>Lvl</td>\n      <td>AllPub</td>\n      <td>OneFam</td>\n      <td>...</td>\n      <td>0</td>\n      <td>0</td>\n      <td>No_Pool</td>\n      <td>No_Fence</td>\n      <td>None</td>\n      <td>0</td>\n      <td>5</td>\n      <td>2008</td>\n      <td>COD</td>\n      <td>Abnorml</td>\n    </tr>\n    <tr>\n      <th>4</th>\n      <td>Two_Story_1946_and_Newer</td>\n      <td>Residential_Low_Density</td>\n      <td>85</td>\n      <td>12244</td>\n      <td>Pave</td>\n      <td>No_Alley_Access</td>\n      <td>Regular</td>\n      <td>Lvl</td>\n      <td>AllPub</td>\n      <td>OneFam</td>\n      <td>...</td>\n      <td>0</td>\n      <td>0</td>\n      <td>No_Pool</td>\n      <td>No_Fence</td>\n      <td>None</td>\n      <td>0</td>\n      <td>8</td>\n      <td>2008</td>\n      <td>WD</td>\n      <td>Normal</td>\n    </tr>\n    <tr>\n      <th>5</th>\n      <td>One_Story_1946_and_Newer_All_Styles</td>\n      <td>Residential_Low_Density</td>\n      <td>0</td>\n      <td>11500</td>\n      <td>Pave</td>\n      <td>No_Alley_Access</td>\n      <td>Slightly_Irregular</td>\n      <td>Bnk</td>\n      <td>AllPub</td>\n      <td>OneFam</td>\n      <td>...</td>\n      <td>0</td>\n      <td>0</td>\n      <td>No_Pool</td>\n      <td>No_Fence</td>\n      <td>None</td>\n      <td>0</td>\n      <td>3</td>\n      <td>2008</td>\n      <td>WD</td>\n      <td>Normal</td>\n    </tr>\n    <tr>\n      <th>6</th>\n      <td>One_Story_PUD_1946_and_Newer</td>\n      <td>Residential_Medium_Density</td>\n      <td>0</td>\n      <td>4438</td>\n      <td>Pave</td>\n      <td>No_Alley_Access</td>\n      <td>Regular</td>\n      <td>Lvl</td>\n      <td>AllPub</td>\n      <td>TwnhsE</td>\n      <td>...</td>\n      <td>0</td>\n      <td>0</td>\n      <td>No_Pool</td>\n      <td>No_Fence</td>\n      <td>None</td>\n      <td>0</td>\n      <td>1</td>\n      <td>2008</td>\n      <td>WD</td>\n      <td>Normal</td>\n    </tr>\n    <tr>\n      <th>7</th>\n      <td>Two_Story_1946_and_Newer</td>\n      <td>Residential_Low_Density</td>\n      <td>0</td>\n      <td>21533</td>\n      <td>Pave</td>\n      <td>No_Alley_Access</td>\n      <td>Moderately_Irregular</td>\n      <td>Lvl</td>\n      <td>AllPub</td>\n      <td>OneFam</td>\n      <td>...</td>\n      <td>0</td>\n      <td>0</td>\n      <td>No_Pool</td>\n      <td>No_Fence</td>\n      <td>None</td>\n      <td>0</td>\n      <td>8</td>\n      <td>2006</td>\n      <td>WD</td>\n      <td>Normal</td>\n    </tr>\n    <tr>\n      <th>8</th>\n      <td>One_Story_1946_and_Newer_All_Styles</td>\n      <td>Residential_Low_Density</td>\n      <td>60</td>\n      <td>10122</td>\n      <td>Pave</td>\n      <td>No_Alley_Access</td>\n      <td>Regular</td>\n      <td>Lvl</td>\n      <td>AllPub</td>\n      <td>OneFam</td>\n      <td>...</td>\n      <td>0</td>\n      <td>0</td>\n      <td>No_Pool</td>\n      <td>Good_Privacy</td>\n      <td>None</td>\n      <td>0</td>\n      <td>8</td>\n      <td>2008</td>\n      <td>WD</td>\n      <td>Normal</td>\n    </tr>\n    <tr>\n      <th>9</th>\n      <td>Two_Story_1946_and_Newer</td>\n      <td>Residential_Low_Density</td>\n      <td>43</td>\n      <td>10667</td>\n      <td>Pave</td>\n      <td>No_Alley_Access</td>\n      <td>Moderately_Irregular</td>\n      <td>Lvl</td>\n      <td>AllPub</td>\n      <td>OneFam</td>\n      <td>...</td>\n      <td>0</td>\n      <td>0</td>\n      <td>No_Pool</td>\n      <td>No_Fence</td>\n      <td>None</td>\n      <td>0</td>\n      <td>4</td>\n      <td>2009</td>\n      <td>ConLw</td>\n      <td>Normal</td>\n    </tr>\n  </tbody>\n</table>\n<p>10 rows × 58 columns</p>\n</div>"
     },
     "execution_count": 9,
     "metadata": {},
     "output_type": "execute_result"
    }
   ],
   "source": [
    "X_train = housing.drop([\"index\", \"y\"], axis = 1)\n",
    "y_train = housing.y\n",
    "X_train.head(10)"
   ],
   "metadata": {
    "collapsed": false,
    "pycharm": {
     "name": "#%%\n"
    }
   }
  },
  {
   "cell_type": "markdown",
   "source": [
    "Afficher les noms des colonnes et leurs types"
   ],
   "metadata": {
    "collapsed": false,
    "pycharm": {
     "name": "#%% md\n"
    }
   }
  },
  {
   "cell_type": "code",
   "execution_count": 10,
   "outputs": [
    {
     "data": {
      "text/plain": "MS_SubClass       object\nMS_Zoning         object\nLot_Frontage       int64\nLot_Area           int64\nStreet            object\nAlley             object\nLot_Shape         object\nLand_Contour      object\nUtilities         object\nBldg_Type         object\nHouse_Style       object\nOverall_Qual      object\nOverall_Cond      object\nYear_Built         int64\nYear_Remod_Add     int64\nRoof_Style        object\nExter_Qual        object\nExter_Cond        object\nFoundation        object\nBsmt_Qual         object\nBsmt_Cond         object\nBsmt_Exposure     object\nBsmt_Unf_SF        int64\nTotal_Bsmt_SF      int64\nHeating           object\nHeating_QC        object\nCentral_Air       object\nElectrical        object\nFirst_Flr_SF       int64\nSecond_Flr_SF      int64\nGr_Liv_Area        int64\nBsmt_Full_Bath     int64\nFull_Bath          int64\nBedroom_AbvGr      int64\nKitchen_AbvGr      int64\nKitchen_Qual      object\nTotRms_AbvGrd      int64\nFunctional        object\nFireplaces         int64\nFireplace_Qu      object\nGarage_Type       object\nGarage_Cars        int64\nGarage_Area        int64\nGarage_Qual       object\nGarage_Cond       object\nPaved_Drive       object\nOpen_Porch_SF      int64\nEnclosed_Porch     int64\nScreen_Porch       int64\nPool_Area          int64\nPool_QC           object\nFence             object\nMisc_Feature      object\nMisc_Val           int64\nMo_Sold            int64\nYear_Sold          int64\nSale_Type         object\nSale_Condition    object\ndtype: object"
     },
     "execution_count": 10,
     "metadata": {},
     "output_type": "execute_result"
    }
   ],
   "source": [
    "X_train.dtypes"
   ],
   "metadata": {
    "collapsed": false,
    "pycharm": {
     "name": "#%%\n"
    }
   }
  },
  {
   "cell_type": "markdown",
   "source": [
    "Construire un PairPlot"
   ],
   "metadata": {
    "collapsed": false,
    "pycharm": {
     "name": "#%% md\n"
    }
   }
  },
  {
   "cell_type": "code",
   "execution_count": 11,
   "outputs": [],
   "source": [
    "# sns.pairplot(housing, hue=\"y\", diag_kind=\"hist\")"
   ],
   "metadata": {
    "collapsed": false,
    "pycharm": {
     "name": "#%%\n"
    }
   }
  },
  {
   "cell_type": "markdown",
   "source": [
    "Calculer la matrice de correlation des variables"
   ],
   "metadata": {
    "collapsed": false
   }
  },
  {
   "cell_type": "code",
   "execution_count": 12,
   "outputs": [
    {
     "data": {
      "text/plain": "<pandas.io.formats.style.Styler at 0x1d9c6c42f10>",
      "text/html": "<style  type=\"text/css\" >\n#T_42f22_row0_col0,#T_42f22_row1_col1,#T_42f22_row2_col2,#T_42f22_row3_col3,#T_42f22_row4_col4,#T_42f22_row5_col5,#T_42f22_row6_col6,#T_42f22_row7_col7,#T_42f22_row8_col8,#T_42f22_row9_col9,#T_42f22_row10_col10,#T_42f22_row11_col11,#T_42f22_row12_col12,#T_42f22_row13_col13,#T_42f22_row14_col14,#T_42f22_row15_col15,#T_42f22_row16_col16,#T_42f22_row17_col17,#T_42f22_row18_col18,#T_42f22_row19_col19,#T_42f22_row20_col20,#T_42f22_row21_col21,#T_42f22_row22_col22,#T_42f22_row23_col23{\n            background-color:  #023858;\n            color:  #f1f1f1;\n        }#T_42f22_row0_col1,#T_42f22_row9_col19,#T_42f22_row11_col1,#T_42f22_row16_col23,#T_42f22_row19_col10,#T_42f22_row19_col23{\n            background-color:  #ece7f2;\n            color:  #000000;\n        }#T_42f22_row0_col2,#T_42f22_row5_col13,#T_42f22_row12_col4,#T_42f22_row12_col13,#T_42f22_row13_col17,#T_42f22_row22_col4{\n            background-color:  #bdc8e1;\n            color:  #000000;\n        }#T_42f22_row0_col3,#T_42f22_row1_col13,#T_42f22_row5_col0,#T_42f22_row15_col11,#T_42f22_row17_col11,#T_42f22_row17_col14,#T_42f22_row18_col7,#T_42f22_row19_col7,#T_42f22_row19_col18{\n            background-color:  #d5d5e8;\n            color:  #000000;\n        }#T_42f22_row0_col4,#T_42f22_row6_col3,#T_42f22_row15_col14,#T_42f22_row17_col8{\n            background-color:  #a5bddb;\n            color:  #000000;\n        }#T_42f22_row0_col5,#T_42f22_row6_col1,#T_42f22_row8_col9{\n            background-color:  #b3c3de;\n            color:  #000000;\n        }#T_42f22_row0_col6,#T_42f22_row1_col9,#T_42f22_row4_col2,#T_42f22_row17_col4{\n            background-color:  #a2bcda;\n            color:  #000000;\n        }#T_42f22_row0_col7,#T_42f22_row4_col7,#T_42f22_row4_col17{\n            background-color:  #dbdaeb;\n            color:  #000000;\n        }#T_42f22_row0_col8,#T_42f22_row11_col15,#T_42f22_row13_col0,#T_42f22_row14_col17,#T_42f22_row16_col1{\n            background-color:  #d8d7e9;\n            color:  #000000;\n        }#T_42f22_row0_col9,#T_42f22_row1_col2,#T_42f22_row5_col17,#T_42f22_row6_col17,#T_42f22_row12_col18,#T_42f22_row13_col18,#T_42f22_row16_col7,#T_42f22_row18_col4{\n            background-color:  #c0c9e2;\n            color:  #000000;\n        }#T_42f22_row0_col10,#T_42f22_row5_col11,#T_42f22_row6_col19,#T_42f22_row14_col20,#T_42f22_row15_col18,#T_42f22_row20_col16,#T_42f22_row22_col11,#T_42f22_row23_col3,#T_42f22_row23_col12{\n            background-color:  #e2dfee;\n            color:  #000000;\n        }#T_42f22_row0_col11,#T_42f22_row1_col11,#T_42f22_row2_col7{\n            background-color:  #d3d4e7;\n            color:  #000000;\n        }#T_42f22_row0_col12,#T_42f22_row1_col17,#T_42f22_row4_col22,#T_42f22_row5_col19,#T_42f22_row8_col22,#T_42f22_row9_col1,#T_42f22_row12_col8,#T_42f22_row16_col22,#T_42f22_row19_col11,#T_42f22_row19_col22,#T_42f22_row20_col0,#T_42f22_row20_col3{\n            background-color:  #e5e1ef;\n            color:  #000000;\n        }#T_42f22_row0_col13,#T_42f22_row5_col18,#T_42f22_row8_col12{\n            background-color:  #d4d4e8;\n            color:  #000000;\n        }#T_42f22_row0_col14,#T_42f22_row1_col23,#T_42f22_row5_col23,#T_42f22_row9_col20,#T_42f22_row20_col1,#T_42f22_row21_col14{\n            background-color:  #eee8f3;\n            color:  #000000;\n        }#T_42f22_row0_col15,#T_42f22_row9_col14,#T_42f22_row11_col2,#T_42f22_row12_col7,#T_42f22_row20_col4{\n            background-color:  #ced0e6;\n            color:  #000000;\n        }#T_42f22_row0_col16,#T_42f22_row4_col15,#T_42f22_row8_col1,#T_42f22_row14_col1,#T_42f22_row14_col3,#T_42f22_row20_col2{\n            background-color:  #c6cce3;\n            color:  #000000;\n        }#T_42f22_row0_col17,#T_42f22_row0_col20,#T_42f22_row7_col12,#T_42f22_row11_col5,#T_42f22_row20_col11{\n            background-color:  #dfddec;\n            color:  #000000;\n        }#T_42f22_row0_col18,#T_42f22_row1_col4,#T_42f22_row2_col8,#T_42f22_row4_col11,#T_42f22_row7_col4,#T_42f22_row8_col18,#T_42f22_row21_col18{\n            background-color:  #c2cbe2;\n            color:  #000000;\n        }#T_42f22_row0_col19,#T_42f22_row6_col23,#T_42f22_row10_col23,#T_42f22_row12_col5,#T_42f22_row18_col5,#T_42f22_row19_col17,#T_42f22_row21_col1,#T_42f22_row23_col15{\n            background-color:  #efe9f3;\n            color:  #000000;\n        }#T_42f22_row0_col21,#T_42f22_row5_col7,#T_42f22_row14_col12,#T_42f22_row18_col1{\n            background-color:  #f9f2f8;\n            color:  #000000;\n        }#T_42f22_row0_col22,#T_42f22_row3_col22,#T_42f22_row4_col0,#T_42f22_row10_col22,#T_42f22_row11_col14,#T_42f22_row11_col22,#T_42f22_row13_col22,#T_42f22_row17_col21,#T_42f22_row19_col3,#T_42f22_row19_col8{\n            background-color:  #e6e2ef;\n            color:  #000000;\n        }#T_42f22_row0_col23,#T_42f22_row7_col20,#T_42f22_row7_col23,#T_42f22_row9_col8,#T_42f22_row9_col12,#T_42f22_row9_col22,#T_42f22_row15_col23,#T_42f22_row17_col1,#T_42f22_row20_col12,#T_42f22_row22_col17{\n            background-color:  #eee9f3;\n            color:  #000000;\n        }#T_42f22_row1_col0,#T_42f22_row3_col23,#T_42f22_row8_col21,#T_42f22_row10_col1,#T_42f22_row11_col0,#T_42f22_row20_col13,#T_42f22_row22_col12{\n            background-color:  #ebe6f2;\n            color:  #000000;\n        }#T_42f22_row1_col3,#T_42f22_row2_col13,#T_42f22_row7_col9,#T_42f22_row8_col19,#T_42f22_row12_col23,#T_42f22_row21_col3,#T_42f22_row23_col7{\n            background-color:  #e0deed;\n            color:  #000000;\n        }#T_42f22_row1_col5,#T_42f22_row13_col14{\n            background-color:  #a7bddb;\n            color:  #000000;\n        }#T_42f22_row1_col6,#T_42f22_row10_col11{\n            background-color:  #84b0d3;\n            color:  #000000;\n        }#T_42f22_row1_col7,#T_42f22_row1_col10,#T_42f22_row8_col20,#T_42f22_row13_col1,#T_42f22_row14_col11,#T_42f22_row16_col0,#T_42f22_row16_col11,#T_42f22_row21_col17,#T_42f22_row22_col6,#T_42f22_row22_col7{\n            background-color:  #d9d8ea;\n            color:  #000000;\n        }#T_42f22_row1_col8,#T_42f22_row1_col18,#T_42f22_row4_col18,#T_42f22_row7_col15{\n            background-color:  #c1cae2;\n            color:  #000000;\n        }#T_42f22_row1_col12,#T_42f22_row2_col23,#T_42f22_row7_col19,#T_42f22_row9_col10,#T_42f22_row11_col20,#T_42f22_row13_col21,#T_42f22_row17_col19,#T_42f22_row19_col13,#T_42f22_row20_col19,#T_42f22_row23_col16{\n            background-color:  #f0eaf4;\n            color:  #000000;\n        }#T_42f22_row1_col14{\n            background-color:  #b7c5df;\n            color:  #000000;\n        }#T_42f22_row1_col15,#T_42f22_row10_col9,#T_42f22_row12_col9,#T_42f22_row22_col18{\n            background-color:  #c8cde4;\n            color:  #000000;\n        }#T_42f22_row1_col16,#T_42f22_row9_col16,#T_42f22_row14_col4,#T_42f22_row14_col18,#T_42f22_row16_col17,#T_42f22_row17_col13{\n            background-color:  #c4cbe3;\n            color:  #000000;\n        }#T_42f22_row1_col19,#T_42f22_row2_col11,#T_42f22_row16_col20{\n            background-color:  #ede8f3;\n            color:  #000000;\n        }#T_42f22_row1_col20,#T_42f22_row3_col11,#T_42f22_row4_col12,#T_42f22_row5_col20,#T_42f22_row5_col21,#T_42f22_row6_col22,#T_42f22_row7_col22,#T_42f22_row16_col19,#T_42f22_row18_col12,#T_42f22_row21_col11,#T_42f22_row21_col16,#T_42f22_row21_col22,#T_42f22_row23_col5{\n            background-color:  #e7e3f0;\n            color:  #000000;\n        }#T_42f22_row1_col21,#T_42f22_row3_col0,#T_42f22_row8_col23,#T_42f22_row12_col15,#T_42f22_row22_col14,#T_42f22_row22_col19{\n            background-color:  #f1ebf4;\n            color:  #000000;\n        }#T_42f22_row1_col22,#T_42f22_row3_col18,#T_42f22_row5_col22,#T_42f22_row14_col23,#T_42f22_row20_col17,#T_42f22_row21_col23,#T_42f22_row22_col10,#T_42f22_row22_col16{\n            background-color:  #eae6f1;\n            color:  #000000;\n        }#T_42f22_row2_col0,#T_42f22_row12_col0,#T_42f22_row14_col0,#T_42f22_row21_col0{\n            background-color:  #f6eff7;\n            color:  #000000;\n        }#T_42f22_row2_col1,#T_42f22_row2_col19,#T_42f22_row3_col19,#T_42f22_row3_col20,#T_42f22_row9_col0,#T_42f22_row12_col20,#T_42f22_row16_col21{\n            background-color:  #f8f1f8;\n            color:  #000000;\n        }#T_42f22_row2_col3,#T_42f22_row13_col7{\n            background-color:  #2182b9;\n            color:  #000000;\n        }#T_42f22_row2_col4,#T_42f22_row15_col13{\n            background-color:  #a1bbda;\n            color:  #000000;\n        }#T_42f22_row2_col5,#T_42f22_row5_col15,#T_42f22_row6_col15,#T_42f22_row16_col8{\n            background-color:  #71a8ce;\n            color:  #000000;\n        }#T_42f22_row2_col6,#T_42f22_row6_col10,#T_42f22_row8_col3{\n            background-color:  #8bb2d4;\n            color:  #000000;\n        }#T_42f22_row2_col9,#T_42f22_row3_col5,#T_42f22_row5_col3,#T_42f22_row10_col5{\n            background-color:  #8fb4d6;\n            color:  #000000;\n        }#T_42f22_row2_col10{\n            background-color:  #569dc8;\n            color:  #000000;\n        }#T_42f22_row2_col12,#T_42f22_row11_col21{\n            background-color:  #fef6fb;\n            color:  #000000;\n        }#T_42f22_row2_col14,#T_42f22_row6_col0,#T_42f22_row6_col18,#T_42f22_row15_col17,#T_42f22_row19_col4,#T_42f22_row23_col2{\n            background-color:  #d0d1e6;\n            color:  #000000;\n        }#T_42f22_row2_col15,#T_42f22_row7_col13{\n            background-color:  #3b92c1;\n            color:  #000000;\n        }#T_42f22_row2_col16,#T_42f22_row6_col16,#T_42f22_row15_col3{\n            background-color:  #5c9fc9;\n            color:  #000000;\n        }#T_42f22_row2_col17,#T_42f22_row4_col8,#T_42f22_row7_col17,#T_42f22_row23_col4{\n            background-color:  #d1d2e6;\n            color:  #000000;\n        }#T_42f22_row2_col18,#T_42f22_row3_col12,#T_42f22_row4_col9,#T_42f22_row4_col21,#T_42f22_row6_col7,#T_42f22_row7_col5,#T_42f22_row7_col6,#T_42f22_row7_col21,#T_42f22_row9_col4,#T_42f22_row9_col11,#T_42f22_row12_col1,#T_42f22_row12_col14,#T_42f22_row18_col2,#T_42f22_row18_col3,#T_42f22_row18_col10,#T_42f22_row18_col15,#T_42f22_row18_col16,#T_42f22_row18_col17,#T_42f22_row18_col19,#T_42f22_row22_col23,#T_42f22_row23_col0,#T_42f22_row23_col1,#T_42f22_row23_col8,#T_42f22_row23_col13,#T_42f22_row23_col20,#T_42f22_row23_col22{\n            background-color:  #fff7fb;\n            color:  #000000;\n        }#T_42f22_row2_col20,#T_42f22_row12_col3,#T_42f22_row18_col8,#T_42f22_row22_col0{\n            background-color:  #f7f0f7;\n            color:  #000000;\n        }#T_42f22_row2_col21,#T_42f22_row12_col17,#T_42f22_row22_col20,#T_42f22_row23_col21{\n            background-color:  #fef6fa;\n            color:  #000000;\n        }#T_42f22_row2_col22,#T_42f22_row21_col12,#T_42f22_row21_col13,#T_42f22_row21_col15,#T_42f22_row23_col11{\n            background-color:  #e9e5f1;\n            color:  #000000;\n        }#T_42f22_row3_col1{\n            background-color:  #faf3f9;\n            color:  #000000;\n        }#T_42f22_row3_col2,#T_42f22_row8_col7{\n            background-color:  #1077b4;\n            color:  #f1f1f1;\n        }#T_42f22_row3_col4,#T_42f22_row6_col13{\n            background-color:  #93b5d6;\n            color:  #000000;\n        }#T_42f22_row3_col6,#T_42f22_row5_col10,#T_42f22_row8_col17,#T_42f22_row13_col5{\n            background-color:  #9ebad9;\n            color:  #000000;\n        }#T_42f22_row3_col7,#T_42f22_row11_col12,#T_42f22_row14_col7,#T_42f22_row14_col10,#T_42f22_row17_col10{\n            background-color:  #b4c4df;\n            color:  #000000;\n        }#T_42f22_row3_col8,#T_42f22_row4_col10,#T_42f22_row17_col3{\n            background-color:  #acc0dd;\n            color:  #000000;\n        }#T_42f22_row3_col9,#T_42f22_row13_col2{\n            background-color:  #a4bcda;\n            color:  #000000;\n        }#T_42f22_row3_col10,#T_42f22_row5_col16,#T_42f22_row14_col6{\n            background-color:  #62a2cb;\n            color:  #000000;\n        }#T_42f22_row3_col13,#T_42f22_row4_col16,#T_42f22_row18_col9,#T_42f22_row19_col5,#T_42f22_row20_col5{\n            background-color:  #d2d2e7;\n            color:  #000000;\n        }#T_42f22_row3_col14,#T_42f22_row8_col0{\n            background-color:  #dad9ea;\n            color:  #000000;\n        }#T_42f22_row3_col15{\n            background-color:  #65a3cb;\n            color:  #000000;\n        }#T_42f22_row3_col16,#T_42f22_row5_col8,#T_42f22_row8_col2{\n            background-color:  #81aed2;\n            color:  #000000;\n        }#T_42f22_row3_col17,#T_42f22_row9_col3,#T_42f22_row9_col15,#T_42f22_row19_col6,#T_42f22_row21_col2,#T_42f22_row21_col4,#T_42f22_row21_col5,#T_42f22_row22_col2{\n            background-color:  #c5cce3;\n            color:  #000000;\n        }#T_42f22_row3_col21,#T_42f22_row4_col20,#T_42f22_row9_col13,#T_42f22_row10_col21,#T_42f22_row12_col19,#T_42f22_row15_col21,#T_42f22_row19_col21{\n            background-color:  #fdf5fa;\n            color:  #000000;\n        }#T_42f22_row4_col1,#T_42f22_row4_col19,#T_42f22_row12_col21,#T_42f22_row20_col21,#T_42f22_row22_col21,#T_42f22_row23_col17{\n            background-color:  #fbf4f9;\n            color:  #000000;\n        }#T_42f22_row4_col3,#T_42f22_row19_col9,#T_42f22_row20_col9,#T_42f22_row21_col6{\n            background-color:  #b5c4df;\n            color:  #000000;\n        }#T_42f22_row4_col5,#T_42f22_row10_col6{\n            background-color:  #76aad0;\n            color:  #000000;\n        }#T_42f22_row4_col6,#T_42f22_row13_col16,#T_42f22_row14_col2{\n            background-color:  #97b7d7;\n            color:  #000000;\n        }#T_42f22_row4_col13,#T_42f22_row5_col1,#T_42f22_row12_col6,#T_42f22_row13_col9{\n            background-color:  #cccfe5;\n            color:  #000000;\n        }#T_42f22_row4_col14,#T_42f22_row4_col23,#T_42f22_row10_col0,#T_42f22_row10_col19,#T_42f22_row10_col20,#T_42f22_row11_col19,#T_42f22_row15_col12,#T_42f22_row17_col23,#T_42f22_row18_col20,#T_42f22_row23_col10,#T_42f22_row23_col14{\n            background-color:  #f2ecf5;\n            color:  #000000;\n        }#T_42f22_row5_col2{\n            background-color:  #509ac6;\n            color:  #000000;\n        }#T_42f22_row5_col4{\n            background-color:  #529bc7;\n            color:  #000000;\n        }#T_42f22_row5_col6{\n            background-color:  #046299;\n            color:  #f1f1f1;\n        }#T_42f22_row5_col9{\n            background-color:  #67a4cc;\n            color:  #000000;\n        }#T_42f22_row5_col12,#T_42f22_row12_col16,#T_42f22_row17_col12,#T_42f22_row18_col13,#T_42f22_row19_col0,#T_42f22_row22_col13,#T_42f22_row23_col19{\n            background-color:  #f5eff6;\n            color:  #000000;\n        }#T_42f22_row5_col14{\n            background-color:  #9cb9d9;\n            color:  #000000;\n        }#T_42f22_row6_col2,#T_42f22_row16_col3{\n            background-color:  #73a9cf;\n            color:  #000000;\n        }#T_42f22_row6_col4,#T_42f22_row10_col16,#T_42f22_row16_col10{\n            background-color:  #7dacd1;\n            color:  #000000;\n        }#T_42f22_row6_col5{\n            background-color:  #04639b;\n            color:  #f1f1f1;\n        }#T_42f22_row6_col8{\n            background-color:  #4a98c5;\n            color:  #000000;\n        }#T_42f22_row6_col9,#T_42f22_row6_col14{\n            background-color:  #7eadd1;\n            color:  #000000;\n        }#T_42f22_row6_col11,#T_42f22_row7_col16,#T_42f22_row14_col19,#T_42f22_row17_col18{\n            background-color:  #d6d6e9;\n            color:  #000000;\n        }#T_42f22_row6_col12,#T_42f22_row18_col11,#T_42f22_row20_col8,#T_42f22_row20_col14{\n            background-color:  #dcdaeb;\n            color:  #000000;\n        }#T_42f22_row6_col20,#T_42f22_row21_col7,#T_42f22_row22_col3{\n            background-color:  #dddbec;\n            color:  #000000;\n        }#T_42f22_row6_col21,#T_42f22_row9_col23,#T_42f22_row11_col3,#T_42f22_row11_col16,#T_42f22_row23_col6{\n            background-color:  #e1dfed;\n            color:  #000000;\n        }#T_42f22_row7_col0,#T_42f22_row9_col21{\n            background-color:  #fbf3f9;\n            color:  #000000;\n        }#T_42f22_row7_col1,#T_42f22_row14_col21,#T_42f22_row18_col0{\n            background-color:  #faf2f8;\n            color:  #000000;\n        }#T_42f22_row7_col2,#T_42f22_row17_col16,#T_42f22_row20_col6{\n            background-color:  #bbc7e0;\n            color:  #000000;\n        }#T_42f22_row7_col3,#T_42f22_row7_col18,#T_42f22_row10_col14,#T_42f22_row23_col18{\n            background-color:  #bcc7e1;\n            color:  #000000;\n        }#T_42f22_row7_col8{\n            background-color:  #2685bb;\n            color:  #000000;\n        }#T_42f22_row7_col10{\n            background-color:  #80aed2;\n            color:  #000000;\n        }#T_42f22_row7_col11{\n            background-color:  #4295c3;\n            color:  #000000;\n        }#T_42f22_row7_col14,#T_42f22_row9_col18,#T_42f22_row19_col14,#T_42f22_row20_col7{\n            background-color:  #d2d3e7;\n            color:  #000000;\n        }#T_42f22_row8_col4{\n            background-color:  #8cb3d5;\n            color:  #000000;\n        }#T_42f22_row8_col5{\n            background-color:  #63a2cb;\n            color:  #000000;\n        }#T_42f22_row8_col6{\n            background-color:  #2a88bc;\n            color:  #000000;\n        }#T_42f22_row8_col10{\n            background-color:  #2484ba;\n            color:  #000000;\n        }#T_42f22_row8_col11{\n            background-color:  #4496c3;\n            color:  #000000;\n        }#T_42f22_row8_col13,#T_42f22_row13_col8{\n            background-color:  #04629a;\n            color:  #f1f1f1;\n        }#T_42f22_row8_col14,#T_42f22_row13_col6{\n            background-color:  #6da6cd;\n            color:  #000000;\n        }#T_42f22_row8_col15{\n            background-color:  #5a9ec9;\n            color:  #000000;\n        }#T_42f22_row8_col16{\n            background-color:  #60a1ca;\n            color:  #000000;\n        }#T_42f22_row9_col2,#T_42f22_row16_col9{\n            background-color:  #91b5d6;\n            color:  #000000;\n        }#T_42f22_row9_col5,#T_42f22_row13_col4,#T_42f22_row13_col15{\n            background-color:  #89b1d4;\n            color:  #000000;\n        }#T_42f22_row9_col6,#T_42f22_row14_col15,#T_42f22_row15_col9{\n            background-color:  #99b8d8;\n            color:  #000000;\n        }#T_42f22_row9_col7,#T_42f22_row19_col1,#T_42f22_row21_col20{\n            background-color:  #f4edf6;\n            color:  #000000;\n        }#T_42f22_row9_col17,#T_42f22_row12_col22,#T_42f22_row13_col20,#T_42f22_row14_col22,#T_42f22_row17_col0,#T_42f22_row20_col10{\n            background-color:  #e8e4f0;\n            color:  #000000;\n        }#T_42f22_row10_col2,#T_42f22_row10_col8{\n            background-color:  #2f8bbe;\n            color:  #000000;\n        }#T_42f22_row10_col3,#T_42f22_row16_col5{\n            background-color:  #549cc7;\n            color:  #000000;\n        }#T_42f22_row10_col4{\n            background-color:  #7bacd1;\n            color:  #000000;\n        }#T_42f22_row10_col7,#T_42f22_row15_col5{\n            background-color:  #69a5cc;\n            color:  #000000;\n        }#T_42f22_row10_col12,#T_42f22_row11_col6{\n            background-color:  #c9cee4;\n            color:  #000000;\n        }#T_42f22_row10_col13,#T_42f22_row10_col15{\n            background-color:  #589ec8;\n            color:  #000000;\n        }#T_42f22_row10_col17,#T_42f22_row17_col15,#T_42f22_row20_col18,#T_42f22_row21_col9{\n            background-color:  #bfc9e1;\n            color:  #000000;\n        }#T_42f22_row10_col18,#T_42f22_row16_col18,#T_42f22_row19_col16{\n            background-color:  #dedcec;\n            color:  #000000;\n        }#T_42f22_row11_col4,#T_42f22_row15_col4{\n            background-color:  #9ab8d8;\n            color:  #000000;\n        }#T_42f22_row11_col7{\n            background-color:  #3790c0;\n            color:  #000000;\n        }#T_42f22_row11_col8,#T_42f22_row15_col6,#T_42f22_row15_col10{\n            background-color:  #5ea0ca;\n            color:  #000000;\n        }#T_42f22_row11_col9,#T_42f22_row11_col17,#T_42f22_row15_col0,#T_42f22_row18_col6,#T_42f22_row21_col8{\n            background-color:  #e4e1ef;\n            color:  #000000;\n        }#T_42f22_row11_col10{\n            background-color:  #8eb3d5;\n            color:  #000000;\n        }#T_42f22_row11_col13{\n            background-color:  #1c7fb8;\n            color:  #000000;\n        }#T_42f22_row11_col18{\n            background-color:  #b8c6e0;\n            color:  #000000;\n        }#T_42f22_row11_col23,#T_42f22_row13_col19,#T_42f22_row15_col19,#T_42f22_row17_col20,#T_42f22_row18_col22,#T_42f22_row21_col10{\n            background-color:  #ede7f2;\n            color:  #000000;\n        }#T_42f22_row12_col2,#T_42f22_row15_col1,#T_42f22_row19_col15{\n            background-color:  #e0dded;\n            color:  #000000;\n        }#T_42f22_row12_col10,#T_42f22_row19_col2{\n            background-color:  #cdd0e5;\n            color:  #000000;\n        }#T_42f22_row12_col11,#T_42f22_row16_col14,#T_42f22_row17_col7{\n            background-color:  #afc1dd;\n            color:  #000000;\n        }#T_42f22_row13_col3,#T_42f22_row14_col13,#T_42f22_row15_col7{\n            background-color:  #b0c2de;\n            color:  #000000;\n        }#T_42f22_row13_col10{\n            background-color:  #4897c4;\n            color:  #000000;\n        }#T_42f22_row13_col11{\n            background-color:  #0f76b3;\n            color:  #f1f1f1;\n        }#T_42f22_row13_col12,#T_42f22_row17_col5{\n            background-color:  #a9bfdc;\n            color:  #000000;\n        }#T_42f22_row13_col23,#T_42f22_row15_col20,#T_42f22_row18_col14,#T_42f22_row19_col20,#T_42f22_row20_col22{\n            background-color:  #f1ebf5;\n            color:  #000000;\n        }#T_42f22_row14_col5{\n            background-color:  #86b0d3;\n            color:  #000000;\n        }#T_42f22_row14_col8{\n            background-color:  #78abd0;\n            color:  #000000;\n        }#T_42f22_row14_col9,#T_42f22_row17_col2{\n            background-color:  #94b6d7;\n            color:  #000000;\n        }#T_42f22_row14_col16,#T_42f22_row16_col13{\n            background-color:  #a8bedc;\n            color:  #000000;\n        }#T_42f22_row15_col2{\n            background-color:  #2081b9;\n            color:  #000000;\n        }#T_42f22_row15_col8{\n            background-color:  #6fa7ce;\n            color:  #000000;\n        }#T_42f22_row15_col16{\n            background-color:  #045483;\n            color:  #f1f1f1;\n        }#T_42f22_row15_col22,#T_42f22_row17_col22,#T_42f22_row18_col23,#T_42f22_row20_col15,#T_42f22_row22_col5,#T_42f22_row22_col15{\n            background-color:  #e3e0ee;\n            color:  #000000;\n        }#T_42f22_row16_col2{\n            background-color:  #328dbf;\n            color:  #000000;\n        }#T_42f22_row16_col4,#T_42f22_row17_col6{\n            background-color:  #9fbad9;\n            color:  #000000;\n        }#T_42f22_row16_col6{\n            background-color:  #4697c4;\n            color:  #000000;\n        }#T_42f22_row16_col12,#T_42f22_row20_col23,#T_42f22_row21_col19{\n            background-color:  #f3edf5;\n            color:  #000000;\n        }#T_42f22_row16_col15{\n            background-color:  #045382;\n            color:  #f1f1f1;\n        }#T_42f22_row17_col9{\n            background-color:  #b1c2de;\n            color:  #000000;\n        }#T_42f22_row18_col21,#T_42f22_row22_col1{\n            background-color:  #fcf4fa;\n            color:  #000000;\n        }#T_42f22_row19_col12{\n            background-color:  #f4eef6;\n            color:  #000000;\n        }#T_42f22_row22_col8{\n            background-color:  #f5eef6;\n            color:  #000000;\n        }#T_42f22_row22_col9{\n            background-color:  #cacee5;\n            color:  #000000;\n        }#T_42f22_row23_col9{\n            background-color:  #b9c6e0;\n            color:  #000000;\n        }</style><table id=\"T_42f22_\" ><thead>    <tr>        <th class=\"blank level0\" ></th>        <th class=\"col_heading level0 col0\" >Lot_Frontage</th>        <th class=\"col_heading level0 col1\" >Lot_Area</th>        <th class=\"col_heading level0 col2\" >Year_Built</th>        <th class=\"col_heading level0 col3\" >Year_Remod_Add</th>        <th class=\"col_heading level0 col4\" >Bsmt_Unf_SF</th>        <th class=\"col_heading level0 col5\" >Total_Bsmt_SF</th>        <th class=\"col_heading level0 col6\" >First_Flr_SF</th>        <th class=\"col_heading level0 col7\" >Second_Flr_SF</th>        <th class=\"col_heading level0 col8\" >Gr_Liv_Area</th>        <th class=\"col_heading level0 col9\" >Bsmt_Full_Bath</th>        <th class=\"col_heading level0 col10\" >Full_Bath</th>        <th class=\"col_heading level0 col11\" >Bedroom_AbvGr</th>        <th class=\"col_heading level0 col12\" >Kitchen_AbvGr</th>        <th class=\"col_heading level0 col13\" >TotRms_AbvGrd</th>        <th class=\"col_heading level0 col14\" >Fireplaces</th>        <th class=\"col_heading level0 col15\" >Garage_Cars</th>        <th class=\"col_heading level0 col16\" >Garage_Area</th>        <th class=\"col_heading level0 col17\" >Open_Porch_SF</th>        <th class=\"col_heading level0 col18\" >Enclosed_Porch</th>        <th class=\"col_heading level0 col19\" >Screen_Porch</th>        <th class=\"col_heading level0 col20\" >Pool_Area</th>        <th class=\"col_heading level0 col21\" >Misc_Val</th>        <th class=\"col_heading level0 col22\" >Mo_Sold</th>        <th class=\"col_heading level0 col23\" >Year_Sold</th>    </tr></thead><tbody>\n                <tr>\n                        <th id=\"T_42f22_level0_row0\" class=\"row_heading level0 row0\" >Lot_Frontage</th>\n                        <td id=\"T_42f22_row0_col0\" class=\"data row0 col0\" >1.000000</td>\n                        <td id=\"T_42f22_row0_col1\" class=\"data row0 col1\" >0.104950</td>\n                        <td id=\"T_42f22_row0_col2\" class=\"data row0 col2\" >0.033557</td>\n                        <td id=\"T_42f22_row0_col3\" class=\"data row0 col3\" >0.070396</td>\n                        <td id=\"T_42f22_row0_col4\" class=\"data row0 col4\" >0.129401</td>\n                        <td id=\"T_42f22_row0_col5\" class=\"data row0 col5\" >0.204950</td>\n                        <td id=\"T_42f22_row0_col6\" class=\"data row0 col6\" >0.230282</td>\n                        <td id=\"T_42f22_row0_col7\" class=\"data row0 col7\" >0.001317</td>\n                        <td id=\"T_42f22_row0_col8\" class=\"data row0 col8\" >0.181725</td>\n                        <td id=\"T_42f22_row0_col9\" class=\"data row0 col9\" >0.019009</td>\n                        <td id=\"T_42f22_row0_col10\" class=\"data row0 col10\" >0.062425</td>\n                        <td id=\"T_42f22_row0_col11\" class=\"data row0 col11\" >0.106002</td>\n                        <td id=\"T_42f22_row0_col12\" class=\"data row0 col12\" >0.035554</td>\n                        <td id=\"T_42f22_row0_col13\" class=\"data row0 col13\" >0.194723</td>\n                        <td id=\"T_42f22_row0_col14\" class=\"data row0 col14\" >0.033029</td>\n                        <td id=\"T_42f22_row0_col15\" class=\"data row0 col15\" >0.139894</td>\n                        <td id=\"T_42f22_row0_col16\" class=\"data row0 col16\" >0.186250</td>\n                        <td id=\"T_42f22_row0_col17\" class=\"data row0 col17\" >0.118929</td>\n                        <td id=\"T_42f22_row0_col18\" class=\"data row0 col18\" >0.010603</td>\n                        <td id=\"T_42f22_row0_col19\" class=\"data row0 col19\" >0.038471</td>\n                        <td id=\"T_42f22_row0_col20\" class=\"data row0 col20\" >0.132831</td>\n                        <td id=\"T_42f22_row0_col21\" class=\"data row0 col21\" >0.033371</td>\n                        <td id=\"T_42f22_row0_col22\" class=\"data row0 col22\" >0.024456</td>\n                        <td id=\"T_42f22_row0_col23\" class=\"data row0 col23\" >-0.028451</td>\n            </tr>\n            <tr>\n                        <th id=\"T_42f22_level0_row1\" class=\"row_heading level0 row1\" >Lot_Area</th>\n                        <td id=\"T_42f22_row1_col0\" class=\"data row1 col0\" >0.104950</td>\n                        <td id=\"T_42f22_row1_col1\" class=\"data row1 col1\" >1.000000</td>\n                        <td id=\"T_42f22_row1_col2\" class=\"data row1 col2\" >0.022221</td>\n                        <td id=\"T_42f22_row1_col3\" class=\"data row1 col3\" >0.008967</td>\n                        <td id=\"T_42f22_row1_col4\" class=\"data row1 col4\" >0.004213</td>\n                        <td id=\"T_42f22_row1_col5\" class=\"data row1 col5\" >0.247844</td>\n                        <td id=\"T_42f22_row1_col6\" class=\"data row1 col6\" >0.323642</td>\n                        <td id=\"T_42f22_row1_col7\" class=\"data row1 col7\" >0.013623</td>\n                        <td id=\"T_42f22_row1_col8\" class=\"data row1 col8\" >0.263186</td>\n                        <td id=\"T_42f22_row1_col9\" class=\"data row1 col9\" >0.136309</td>\n                        <td id=\"T_42f22_row1_col10\" class=\"data row1 col10\" >0.110467</td>\n                        <td id=\"T_42f22_row1_col11\" class=\"data row1 col11\" >0.104364</td>\n                        <td id=\"T_42f22_row1_col12\" class=\"data row1 col12\" >-0.023744</td>\n                        <td id=\"T_42f22_row1_col13\" class=\"data row1 col13\" >0.192243</td>\n                        <td id=\"T_42f22_row1_col14\" class=\"data row1 col14\" >0.262680</td>\n                        <td id=\"T_42f22_row1_col15\" class=\"data row1 col15\" >0.163884</td>\n                        <td id=\"T_42f22_row1_col16\" class=\"data row1 col16\" >0.198731</td>\n                        <td id=\"T_42f22_row1_col17\" class=\"data row1 col17\" >0.091138</td>\n                        <td id=\"T_42f22_row1_col18\" class=\"data row1 col18\" >0.018828</td>\n                        <td id=\"T_42f22_row1_col19\" class=\"data row1 col19\" >0.054355</td>\n                        <td id=\"T_42f22_row1_col20\" class=\"data row1 col20\" >0.092522</td>\n                        <td id=\"T_42f22_row1_col21\" class=\"data row1 col21\" >0.087625</td>\n                        <td id=\"T_42f22_row1_col22\" class=\"data row1 col22\" >-0.000600</td>\n                        <td id=\"T_42f22_row1_col23\" class=\"data row1 col23\" >-0.022404</td>\n            </tr>\n            <tr>\n                        <th id=\"T_42f22_level0_row2\" class=\"row_heading level0 row2\" >Year_Built</th>\n                        <td id=\"T_42f22_row2_col0\" class=\"data row2 col0\" >0.033557</td>\n                        <td id=\"T_42f22_row2_col1\" class=\"data row2 col1\" >0.022221</td>\n                        <td id=\"T_42f22_row2_col2\" class=\"data row2 col2\" >1.000000</td>\n                        <td id=\"T_42f22_row2_col3\" class=\"data row2 col3\" >0.610752</td>\n                        <td id=\"T_42f22_row2_col4\" class=\"data row2 col4\" >0.143229</td>\n                        <td id=\"T_42f22_row2_col5\" class=\"data row2 col5\" >0.406490</td>\n                        <td id=\"T_42f22_row2_col6\" class=\"data row2 col6\" >0.305294</td>\n                        <td id=\"T_42f22_row2_col7\" class=\"data row2 col7\" >0.044949</td>\n                        <td id=\"T_42f22_row2_col8\" class=\"data row2 col8\" >0.259850</td>\n                        <td id=\"T_42f22_row2_col9\" class=\"data row2 col9\" >0.204330</td>\n                        <td id=\"T_42f22_row2_col10\" class=\"data row2 col10\" >0.503241</td>\n                        <td id=\"T_42f22_row2_col11\" class=\"data row2 col11\" >-0.035629</td>\n                        <td id=\"T_42f22_row2_col12\" class=\"data row2 col12\" >-0.137716</td>\n                        <td id=\"T_42f22_row2_col13\" class=\"data row2 col13\" >0.136663</td>\n                        <td id=\"T_42f22_row2_col14\" class=\"data row2 col14\" >0.181775</td>\n                        <td id=\"T_42f22_row2_col15\" class=\"data row2 col15\" >0.557802</td>\n                        <td id=\"T_42f22_row2_col16\" class=\"data row2 col16\" >0.489497</td>\n                        <td id=\"T_42f22_row2_col17\" class=\"data row2 col17\" >0.189826</td>\n                        <td id=\"T_42f22_row2_col18\" class=\"data row2 col18\" >-0.392310</td>\n                        <td id=\"T_42f22_row2_col19\" class=\"data row2 col19\" >-0.028758</td>\n                        <td id=\"T_42f22_row2_col20\" class=\"data row2 col20\" >-0.001620</td>\n                        <td id=\"T_42f22_row2_col21\" class=\"data row2 col21\" >0.001983</td>\n                        <td id=\"T_42f22_row2_col22\" class=\"data row2 col22\" >0.002956</td>\n                        <td id=\"T_42f22_row2_col23\" class=\"data row2 col23\" >-0.039528</td>\n            </tr>\n            <tr>\n                        <th id=\"T_42f22_level0_row3\" class=\"row_heading level0 row3\" >Year_Remod_Add</th>\n                        <td id=\"T_42f22_row3_col0\" class=\"data row3 col0\" >0.070396</td>\n                        <td id=\"T_42f22_row3_col1\" class=\"data row3 col1\" >0.008967</td>\n                        <td id=\"T_42f22_row3_col2\" class=\"data row3 col2\" >0.610752</td>\n                        <td id=\"T_42f22_row3_col3\" class=\"data row3 col3\" >1.000000</td>\n                        <td id=\"T_42f22_row3_col4\" class=\"data row3 col4\" >0.192007</td>\n                        <td id=\"T_42f22_row3_col5\" class=\"data row3 col5\" >0.316444</td>\n                        <td id=\"T_42f22_row3_col6\" class=\"data row3 col6\" >0.246155</td>\n                        <td id=\"T_42f22_row3_col7\" class=\"data row3 col7\" >0.169636</td>\n                        <td id=\"T_42f22_row3_col8\" class=\"data row3 col8\" >0.328160</td>\n                        <td id=\"T_42f22_row3_col9\" class=\"data row3 col9\" >0.133542</td>\n                        <td id=\"T_42f22_row3_col10\" class=\"data row3 col10\" >0.476706</td>\n                        <td id=\"T_42f22_row3_col11\" class=\"data row3 col11\" >0.002281</td>\n                        <td id=\"T_42f22_row3_col12\" class=\"data row3 col12\" >-0.143457</td>\n                        <td id=\"T_42f22_row3_col13\" class=\"data row3 col13\" >0.208800</td>\n                        <td id=\"T_42f22_row3_col14\" class=\"data row3 col14\" >0.129410</td>\n                        <td id=\"T_42f22_row3_col15\" class=\"data row3 col15\" >0.457665</td>\n                        <td id=\"T_42f22_row3_col16\" class=\"data row3 col16\" >0.401136</td>\n                        <td id=\"T_42f22_row3_col17\" class=\"data row3 col17\" >0.225041</td>\n                        <td id=\"T_42f22_row3_col18\" class=\"data row3 col18\" >-0.206636</td>\n                        <td id=\"T_42f22_row3_col19\" class=\"data row3 col19\" >-0.021506</td>\n                        <td id=\"T_42f22_row3_col20\" class=\"data row3 col20\" >-0.015097</td>\n                        <td id=\"T_42f22_row3_col21\" class=\"data row3 col21\" >0.005636</td>\n                        <td id=\"T_42f22_row3_col22\" class=\"data row3 col22\" >0.024650</td>\n                        <td id=\"T_42f22_row3_col23\" class=\"data row3 col23\" >-0.001904</td>\n            </tr>\n            <tr>\n                        <th id=\"T_42f22_level0_row4\" class=\"row_heading level0 row4\" >Bsmt_Unf_SF</th>\n                        <td id=\"T_42f22_row4_col0\" class=\"data row4 col0\" >0.129401</td>\n                        <td id=\"T_42f22_row4_col1\" class=\"data row4 col1\" >0.004213</td>\n                        <td id=\"T_42f22_row4_col2\" class=\"data row4 col2\" >0.143229</td>\n                        <td id=\"T_42f22_row4_col3\" class=\"data row4 col3\" >0.192007</td>\n                        <td id=\"T_42f22_row4_col4\" class=\"data row4 col4\" >1.000000</td>\n                        <td id=\"T_42f22_row4_col5\" class=\"data row4 col5\" >0.392896</td>\n                        <td id=\"T_42f22_row4_col6\" class=\"data row4 col6\" >0.266933</td>\n                        <td id=\"T_42f22_row4_col7\" class=\"data row4 col7\" >0.003897</td>\n                        <td id=\"T_42f22_row4_col8\" class=\"data row4 col8\" >0.215239</td>\n                        <td id=\"T_42f22_row4_col9\" class=\"data row4 col9\" >-0.401712</td>\n                        <td id=\"T_42f22_row4_col10\" class=\"data row4 col10\" >0.274885</td>\n                        <td id=\"T_42f22_row4_col11\" class=\"data row4 col11\" >0.166588</td>\n                        <td id=\"T_42f22_row4_col12\" class=\"data row4 col12\" >0.027162</td>\n                        <td id=\"T_42f22_row4_col13\" class=\"data row4 col13\" >0.226908</td>\n                        <td id=\"T_42f22_row4_col14\" class=\"data row4 col14\" >0.002201</td>\n                        <td id=\"T_42f22_row4_col15\" class=\"data row4 col15\" >0.167403</td>\n                        <td id=\"T_42f22_row4_col16\" class=\"data row4 col16\" >0.147189</td>\n                        <td id=\"T_42f22_row4_col17\" class=\"data row4 col17\" >0.137967</td>\n                        <td id=\"T_42f22_row4_col18\" class=\"data row4 col18\" >0.017436</td>\n                        <td id=\"T_42f22_row4_col19\" class=\"data row4 col19\" >-0.046666</td>\n                        <td id=\"T_42f22_row4_col20\" class=\"data row4 col20\" >-0.043865</td>\n                        <td id=\"T_42f22_row4_col21\" class=\"data row4 col21\" >-0.007425</td>\n                        <td id=\"T_42f22_row4_col22\" class=\"data row4 col22\" >0.028130</td>\n                        <td id=\"T_42f22_row4_col23\" class=\"data row4 col23\" >-0.053435</td>\n            </tr>\n            <tr>\n                        <th id=\"T_42f22_level0_row5\" class=\"row_heading level0 row5\" >Total_Bsmt_SF</th>\n                        <td id=\"T_42f22_row5_col0\" class=\"data row5 col0\" >0.204950</td>\n                        <td id=\"T_42f22_row5_col1\" class=\"data row5 col1\" >0.247844</td>\n                        <td id=\"T_42f22_row5_col2\" class=\"data row5 col2\" >0.406490</td>\n                        <td id=\"T_42f22_row5_col3\" class=\"data row5 col3\" >0.316444</td>\n                        <td id=\"T_42f22_row5_col4\" class=\"data row5 col4\" >0.392896</td>\n                        <td id=\"T_42f22_row5_col5\" class=\"data row5 col5\" >1.000000</td>\n                        <td id=\"T_42f22_row5_col6\" class=\"data row5 col6\" >0.786482</td>\n                        <td id=\"T_42f22_row5_col7\" class=\"data row5 col7\" >-0.198644</td>\n                        <td id=\"T_42f22_row5_col8\" class=\"data row5 col8\" >0.441304</td>\n                        <td id=\"T_42f22_row5_col9\" class=\"data row5 col9\" >0.336363</td>\n                        <td id=\"T_42f22_row5_col10\" class=\"data row5 col10\" >0.318992</td>\n                        <td id=\"T_42f22_row5_col11\" class=\"data row5 col11\" >0.023579</td>\n                        <td id=\"T_42f22_row5_col12\" class=\"data row5 col12\" >-0.070645</td>\n                        <td id=\"T_42f22_row5_col13\" class=\"data row5 col13\" >0.275475</td>\n                        <td id=\"T_42f22_row5_col14\" class=\"data row5 col14\" >0.344515</td>\n                        <td id=\"T_42f22_row5_col15\" class=\"data row5 col15\" >0.427998</td>\n                        <td id=\"T_42f22_row5_col16\" class=\"data row5 col16\" >0.478705</td>\n                        <td id=\"T_42f22_row5_col17\" class=\"data row5 col17\" >0.241267</td>\n                        <td id=\"T_42f22_row5_col18\" class=\"data row5 col18\" >-0.069437</td>\n                        <td id=\"T_42f22_row5_col19\" class=\"data row5 col19\" >0.092349</td>\n                        <td id=\"T_42f22_row5_col20\" class=\"data row5 col20\" >0.095205</td>\n                        <td id=\"T_42f22_row5_col21\" class=\"data row5 col21\" >0.142326</td>\n                        <td id=\"T_42f22_row5_col22\" class=\"data row5 col22\" >-0.001421</td>\n                        <td id=\"T_42f22_row5_col23\" class=\"data row5 col23\" >-0.022353</td>\n            </tr>\n            <tr>\n                        <th id=\"T_42f22_level0_row6\" class=\"row_heading level0 row6\" >First_Flr_SF</th>\n                        <td id=\"T_42f22_row6_col0\" class=\"data row6 col0\" >0.230282</td>\n                        <td id=\"T_42f22_row6_col1\" class=\"data row6 col1\" >0.323642</td>\n                        <td id=\"T_42f22_row6_col2\" class=\"data row6 col2\" >0.305294</td>\n                        <td id=\"T_42f22_row6_col3\" class=\"data row6 col3\" >0.246155</td>\n                        <td id=\"T_42f22_row6_col4\" class=\"data row6 col4\" >0.266933</td>\n                        <td id=\"T_42f22_row6_col5\" class=\"data row6 col5\" >0.786482</td>\n                        <td id=\"T_42f22_row6_col6\" class=\"data row6 col6\" >1.000000</td>\n                        <td id=\"T_42f22_row6_col7\" class=\"data row6 col7\" >-0.247823</td>\n                        <td id=\"T_42f22_row6_col8\" class=\"data row6 col8\" >0.567064</td>\n                        <td id=\"T_42f22_row6_col9\" class=\"data row6 col9\" >0.262049</td>\n                        <td id=\"T_42f22_row6_col10\" class=\"data row6 col10\" >0.369918</td>\n                        <td id=\"T_42f22_row6_col11\" class=\"data row6 col11\" >0.088883</td>\n                        <td id=\"T_42f22_row6_col12\" class=\"data row6 col12\" >0.079940</td>\n                        <td id=\"T_42f22_row6_col13\" class=\"data row6 col13\" >0.394843</td>\n                        <td id=\"T_42f22_row6_col14\" class=\"data row6 col14\" >0.422905</td>\n                        <td id=\"T_42f22_row6_col15\" class=\"data row6 col15\" >0.431460</td>\n                        <td id=\"T_42f22_row6_col16\" class=\"data row6 col16\" >0.489916</td>\n                        <td id=\"T_42f22_row6_col17\" class=\"data row6 col17\" >0.243664</td>\n                        <td id=\"T_42f22_row6_col18\" class=\"data row6 col18\" >-0.043165</td>\n                        <td id=\"T_42f22_row6_col19\" class=\"data row6 col19\" >0.105404</td>\n                        <td id=\"T_42f22_row6_col20\" class=\"data row6 col20\" >0.142711</td>\n                        <td id=\"T_42f22_row6_col21\" class=\"data row6 col21\" >0.166099</td>\n                        <td id=\"T_42f22_row6_col22\" class=\"data row6 col22\" >0.013537</td>\n                        <td id=\"T_42f22_row6_col23\" class=\"data row6 col23\" >-0.030226</td>\n            </tr>\n            <tr>\n                        <th id=\"T_42f22_level0_row7\" class=\"row_heading level0 row7\" >Second_Flr_SF</th>\n                        <td id=\"T_42f22_row7_col0\" class=\"data row7 col0\" >0.001317</td>\n                        <td id=\"T_42f22_row7_col1\" class=\"data row7 col1\" >0.013623</td>\n                        <td id=\"T_42f22_row7_col2\" class=\"data row7 col2\" >0.044949</td>\n                        <td id=\"T_42f22_row7_col3\" class=\"data row7 col3\" >0.169636</td>\n                        <td id=\"T_42f22_row7_col4\" class=\"data row7 col4\" >0.003897</td>\n                        <td id=\"T_42f22_row7_col5\" class=\"data row7 col5\" >-0.198644</td>\n                        <td id=\"T_42f22_row7_col6\" class=\"data row7 col6\" >-0.247823</td>\n                        <td id=\"T_42f22_row7_col7\" class=\"data row7 col7\" >1.000000</td>\n                        <td id=\"T_42f22_row7_col8\" class=\"data row7 col8\" >0.651973</td>\n                        <td id=\"T_42f22_row7_col9\" class=\"data row7 col9\" >-0.151744</td>\n                        <td id=\"T_42f22_row7_col10\" class=\"data row7 col10\" >0.403912</td>\n                        <td id=\"T_42f22_row7_col11\" class=\"data row7 col11\" >0.531478</td>\n                        <td id=\"T_42f22_row7_col12\" class=\"data row7 col12\" >0.070405</td>\n                        <td id=\"T_42f22_row7_col13\" class=\"data row7 col13\" >0.597383</td>\n                        <td id=\"T_42f22_row7_col14\" class=\"data row7 col14\" >0.167434</td>\n                        <td id=\"T_42f22_row7_col15\" class=\"data row7 col15\" >0.185257</td>\n                        <td id=\"T_42f22_row7_col16\" class=\"data row7 col16\" >0.126123</td>\n                        <td id=\"T_42f22_row7_col17\" class=\"data row7 col17\" >0.187509</td>\n                        <td id=\"T_42f22_row7_col18\" class=\"data row7 col18\" >0.038764</td>\n                        <td id=\"T_42f22_row7_col19\" class=\"data row7 col19\" >0.036050</td>\n                        <td id=\"T_42f22_row7_col20\" class=\"data row7 col20\" >0.054203</td>\n                        <td id=\"T_42f22_row7_col21\" class=\"data row7 col21\" >-0.005029</td>\n                        <td id=\"T_42f22_row7_col22\" class=\"data row7 col22\" >0.017977</td>\n                        <td id=\"T_42f22_row7_col23\" class=\"data row7 col23\" >-0.025137</td>\n            </tr>\n            <tr>\n                        <th id=\"T_42f22_level0_row8\" class=\"row_heading level0 row8\" >Gr_Liv_Area</th>\n                        <td id=\"T_42f22_row8_col0\" class=\"data row8 col0\" >0.181725</td>\n                        <td id=\"T_42f22_row8_col1\" class=\"data row8 col1\" >0.263186</td>\n                        <td id=\"T_42f22_row8_col2\" class=\"data row8 col2\" >0.259850</td>\n                        <td id=\"T_42f22_row8_col3\" class=\"data row8 col3\" >0.328160</td>\n                        <td id=\"T_42f22_row8_col4\" class=\"data row8 col4\" >0.215239</td>\n                        <td id=\"T_42f22_row8_col5\" class=\"data row8 col5\" >0.441304</td>\n                        <td id=\"T_42f22_row8_col6\" class=\"data row8 col6\" >0.567064</td>\n                        <td id=\"T_42f22_row8_col7\" class=\"data row8 col7\" >0.651973</td>\n                        <td id=\"T_42f22_row8_col8\" class=\"data row8 col8\" >1.000000</td>\n                        <td id=\"T_42f22_row8_col9\" class=\"data row8 col9\" >0.072029</td>\n                        <td id=\"T_42f22_row8_col10\" class=\"data row8 col10\" >0.625285</td>\n                        <td id=\"T_42f22_row8_col11\" class=\"data row8 col11\" >0.523665</td>\n                        <td id=\"T_42f22_row8_col12\" class=\"data row8 col12\" >0.121712</td>\n                        <td id=\"T_42f22_row8_col13\" class=\"data row8 col13\" >0.819285</td>\n                        <td id=\"T_42f22_row8_col14\" class=\"data row8 col14\" >0.468931</td>\n                        <td id=\"T_42f22_row8_col15\" class=\"data row8 col15\" >0.485702</td>\n                        <td id=\"T_42f22_row8_col16\" class=\"data row8 col16\" >0.483365</td>\n                        <td id=\"T_42f22_row8_col17\" class=\"data row8 col17\" >0.347303</td>\n                        <td id=\"T_42f22_row8_col18\" class=\"data row8 col18\" >0.010748</td>\n                        <td id=\"T_42f22_row8_col19\" class=\"data row8 col19\" >0.114055</td>\n                        <td id=\"T_42f22_row8_col20\" class=\"data row8 col20\" >0.160529</td>\n                        <td id=\"T_42f22_row8_col21\" class=\"data row8 col21\" >0.124307</td>\n                        <td id=\"T_42f22_row8_col22\" class=\"data row8 col22\" >0.026005</td>\n                        <td id=\"T_42f22_row8_col23\" class=\"data row8 col23\" >-0.045400</td>\n            </tr>\n            <tr>\n                        <th id=\"T_42f22_level0_row9\" class=\"row_heading level0 row9\" >Bsmt_Full_Bath</th>\n                        <td id=\"T_42f22_row9_col0\" class=\"data row9 col0\" >0.019009</td>\n                        <td id=\"T_42f22_row9_col1\" class=\"data row9 col1\" >0.136309</td>\n                        <td id=\"T_42f22_row9_col2\" class=\"data row9 col2\" >0.204330</td>\n                        <td id=\"T_42f22_row9_col3\" class=\"data row9 col3\" >0.133542</td>\n                        <td id=\"T_42f22_row9_col4\" class=\"data row9 col4\" >-0.401712</td>\n                        <td id=\"T_42f22_row9_col5\" class=\"data row9 col5\" >0.336363</td>\n                        <td id=\"T_42f22_row9_col6\" class=\"data row9 col6\" >0.262049</td>\n                        <td id=\"T_42f22_row9_col7\" class=\"data row9 col7\" >-0.151744</td>\n                        <td id=\"T_42f22_row9_col8\" class=\"data row9 col8\" >0.072029</td>\n                        <td id=\"T_42f22_row9_col9\" class=\"data row9 col9\" >1.000000</td>\n                        <td id=\"T_42f22_row9_col10\" class=\"data row9 col10\" >-0.018372</td>\n                        <td id=\"T_42f22_row9_col11\" class=\"data row9 col11\" >-0.173632</td>\n                        <td id=\"T_42f22_row9_col12\" class=\"data row9 col12\" >-0.014789</td>\n                        <td id=\"T_42f22_row9_col13\" class=\"data row9 col13\" >-0.030100</td>\n                        <td id=\"T_42f22_row9_col14\" class=\"data row9 col14\" >0.185465</td>\n                        <td id=\"T_42f22_row9_col15\" class=\"data row9 col15\" >0.172393</td>\n                        <td id=\"T_42f22_row9_col16\" class=\"data row9 col16\" >0.198040</td>\n                        <td id=\"T_42f22_row9_col17\" class=\"data row9 col17\" >0.074898</td>\n                        <td id=\"T_42f22_row9_col18\" class=\"data row9 col18\" >-0.059397</td>\n                        <td id=\"T_42f22_row9_col19\" class=\"data row9 col19\" >0.061914</td>\n                        <td id=\"T_42f22_row9_col20\" class=\"data row9 col20\" >0.061529</td>\n                        <td id=\"T_42f22_row9_col21\" class=\"data row9 col21\" >0.023807</td>\n                        <td id=\"T_42f22_row9_col22\" class=\"data row9 col22\" >-0.025507</td>\n                        <td id=\"T_42f22_row9_col23\" class=\"data row9 col23\" >0.046173</td>\n            </tr>\n            <tr>\n                        <th id=\"T_42f22_level0_row10\" class=\"row_heading level0 row10\" >Full_Bath</th>\n                        <td id=\"T_42f22_row10_col0\" class=\"data row10 col0\" >0.062425</td>\n                        <td id=\"T_42f22_row10_col1\" class=\"data row10 col1\" >0.110467</td>\n                        <td id=\"T_42f22_row10_col2\" class=\"data row10 col2\" >0.503241</td>\n                        <td id=\"T_42f22_row10_col3\" class=\"data row10 col3\" >0.476706</td>\n                        <td id=\"T_42f22_row10_col4\" class=\"data row10 col4\" >0.274885</td>\n                        <td id=\"T_42f22_row10_col5\" class=\"data row10 col5\" >0.318992</td>\n                        <td id=\"T_42f22_row10_col6\" class=\"data row10 col6\" >0.369918</td>\n                        <td id=\"T_42f22_row10_col7\" class=\"data row10 col7\" >0.403912</td>\n                        <td id=\"T_42f22_row10_col8\" class=\"data row10 col8\" >0.625285</td>\n                        <td id=\"T_42f22_row10_col9\" class=\"data row10 col9\" >-0.018372</td>\n                        <td id=\"T_42f22_row10_col10\" class=\"data row10 col10\" >1.000000</td>\n                        <td id=\"T_42f22_row10_col11\" class=\"data row10 col11\" >0.364108</td>\n                        <td id=\"T_42f22_row10_col12\" class=\"data row10 col12\" >0.164906</td>\n                        <td id=\"T_42f22_row10_col13\" class=\"data row10 col13\" >0.533704</td>\n                        <td id=\"T_42f22_row10_col14\" class=\"data row10 col14\" >0.246725</td>\n                        <td id=\"T_42f22_row10_col15\" class=\"data row10 col15\" >0.487064</td>\n                        <td id=\"T_42f22_row10_col16\" class=\"data row10 col16\" >0.411278</td>\n                        <td id=\"T_42f22_row10_col17\" class=\"data row10 col17\" >0.247223</td>\n                        <td id=\"T_42f22_row10_col18\" class=\"data row10 col18\" >-0.129035</td>\n                        <td id=\"T_42f22_row10_col19\" class=\"data row10 col19\" >0.013397</td>\n                        <td id=\"T_42f22_row10_col20\" class=\"data row10 col20\" >0.029986</td>\n                        <td id=\"T_42f22_row10_col21\" class=\"data row10 col21\" >0.010783</td>\n                        <td id=\"T_42f22_row10_col22\" class=\"data row10 col22\" >0.023917</td>\n                        <td id=\"T_42f22_row10_col23\" class=\"data row10 col23\" >-0.029978</td>\n            </tr>\n            <tr>\n                        <th id=\"T_42f22_level0_row11\" class=\"row_heading level0 row11\" >Bedroom_AbvGr</th>\n                        <td id=\"T_42f22_row11_col0\" class=\"data row11 col0\" >0.106002</td>\n                        <td id=\"T_42f22_row11_col1\" class=\"data row11 col1\" >0.104364</td>\n                        <td id=\"T_42f22_row11_col2\" class=\"data row11 col2\" >-0.035629</td>\n                        <td id=\"T_42f22_row11_col3\" class=\"data row11 col3\" >0.002281</td>\n                        <td id=\"T_42f22_row11_col4\" class=\"data row11 col4\" >0.166588</td>\n                        <td id=\"T_42f22_row11_col5\" class=\"data row11 col5\" >0.023579</td>\n                        <td id=\"T_42f22_row11_col6\" class=\"data row11 col6\" >0.088883</td>\n                        <td id=\"T_42f22_row11_col7\" class=\"data row11 col7\" >0.531478</td>\n                        <td id=\"T_42f22_row11_col8\" class=\"data row11 col8\" >0.523665</td>\n                        <td id=\"T_42f22_row11_col9\" class=\"data row11 col9\" >-0.173632</td>\n                        <td id=\"T_42f22_row11_col10\" class=\"data row11 col10\" >0.364108</td>\n                        <td id=\"T_42f22_row11_col11\" class=\"data row11 col11\" >1.000000</td>\n                        <td id=\"T_42f22_row11_col12\" class=\"data row11 col12\" >0.238963</td>\n                        <td id=\"T_42f22_row11_col13\" class=\"data row11 col13\" >0.675714</td>\n                        <td id=\"T_42f22_row11_col14\" class=\"data row11 col14\" >0.075520</td>\n                        <td id=\"T_42f22_row11_col15\" class=\"data row11 col15\" >0.093538</td>\n                        <td id=\"T_42f22_row11_col16\" class=\"data row11 col16\" >0.069397</td>\n                        <td id=\"T_42f22_row11_col17\" class=\"data row11 col17\" >0.094697</td>\n                        <td id=\"T_42f22_row11_col18\" class=\"data row11 col18\" >0.057361</td>\n                        <td id=\"T_42f22_row11_col19\" class=\"data row11 col19\" >0.012474</td>\n                        <td id=\"T_42f22_row11_col20\" class=\"data row11 col20\" >0.042984</td>\n                        <td id=\"T_42f22_row11_col21\" class=\"data row11 col21\" >-0.002508</td>\n                        <td id=\"T_42f22_row11_col22\" class=\"data row11 col22\" >0.025293</td>\n                        <td id=\"T_42f22_row11_col23\" class=\"data row11 col23\" >-0.012077</td>\n            </tr>\n            <tr>\n                        <th id=\"T_42f22_level0_row12\" class=\"row_heading level0 row12\" >Kitchen_AbvGr</th>\n                        <td id=\"T_42f22_row12_col0\" class=\"data row12 col0\" >0.035554</td>\n                        <td id=\"T_42f22_row12_col1\" class=\"data row12 col1\" >-0.023744</td>\n                        <td id=\"T_42f22_row12_col2\" class=\"data row12 col2\" >-0.137716</td>\n                        <td id=\"T_42f22_row12_col3\" class=\"data row12 col3\" >-0.143457</td>\n                        <td id=\"T_42f22_row12_col4\" class=\"data row12 col4\" >0.027162</td>\n                        <td id=\"T_42f22_row12_col5\" class=\"data row12 col5\" >-0.070645</td>\n                        <td id=\"T_42f22_row12_col6\" class=\"data row12 col6\" >0.079940</td>\n                        <td id=\"T_42f22_row12_col7\" class=\"data row12 col7\" >0.070405</td>\n                        <td id=\"T_42f22_row12_col8\" class=\"data row12 col8\" >0.121712</td>\n                        <td id=\"T_42f22_row12_col9\" class=\"data row12 col9\" >-0.014789</td>\n                        <td id=\"T_42f22_row12_col10\" class=\"data row12 col10\" >0.164906</td>\n                        <td id=\"T_42f22_row12_col11\" class=\"data row12 col11\" >0.238963</td>\n                        <td id=\"T_42f22_row12_col12\" class=\"data row12 col12\" >1.000000</td>\n                        <td id=\"T_42f22_row12_col13\" class=\"data row12 col13\" >0.273469</td>\n                        <td id=\"T_42f22_row12_col14\" class=\"data row12 col14\" >-0.095141</td>\n                        <td id=\"T_42f22_row12_col15\" class=\"data row12 col15\" >-0.044836</td>\n                        <td id=\"T_42f22_row12_col16\" class=\"data row12 col16\" >-0.053430</td>\n                        <td id=\"T_42f22_row12_col17\" class=\"data row12 col17\" >-0.069765</td>\n                        <td id=\"T_42f22_row12_col18\" class=\"data row12 col18\" >0.024300</td>\n                        <td id=\"T_42f22_row12_col19\" class=\"data row12 col19\" >-0.059198</td>\n                        <td id=\"T_42f22_row12_col20\" class=\"data row12 col20\" >-0.015332</td>\n                        <td id=\"T_42f22_row12_col21\" class=\"data row12 col21\" >0.016563</td>\n                        <td id=\"T_42f22_row12_col22\" class=\"data row12 col22\" >0.007498</td>\n                        <td id=\"T_42f22_row12_col23\" class=\"data row12 col23\" >0.048693</td>\n            </tr>\n            <tr>\n                        <th id=\"T_42f22_level0_row13\" class=\"row_heading level0 row13\" >TotRms_AbvGrd</th>\n                        <td id=\"T_42f22_row13_col0\" class=\"data row13 col0\" >0.194723</td>\n                        <td id=\"T_42f22_row13_col1\" class=\"data row13 col1\" >0.192243</td>\n                        <td id=\"T_42f22_row13_col2\" class=\"data row13 col2\" >0.136663</td>\n                        <td id=\"T_42f22_row13_col3\" class=\"data row13 col3\" >0.208800</td>\n                        <td id=\"T_42f22_row13_col4\" class=\"data row13 col4\" >0.226908</td>\n                        <td id=\"T_42f22_row13_col5\" class=\"data row13 col5\" >0.275475</td>\n                        <td id=\"T_42f22_row13_col6\" class=\"data row13 col6\" >0.394843</td>\n                        <td id=\"T_42f22_row13_col7\" class=\"data row13 col7\" >0.597383</td>\n                        <td id=\"T_42f22_row13_col8\" class=\"data row13 col8\" >0.819285</td>\n                        <td id=\"T_42f22_row13_col9\" class=\"data row13 col9\" >-0.030100</td>\n                        <td id=\"T_42f22_row13_col10\" class=\"data row13 col10\" >0.533704</td>\n                        <td id=\"T_42f22_row13_col11\" class=\"data row13 col11\" >0.675714</td>\n                        <td id=\"T_42f22_row13_col12\" class=\"data row13 col12\" >0.273469</td>\n                        <td id=\"T_42f22_row13_col13\" class=\"data row13 col13\" >1.000000</td>\n                        <td id=\"T_42f22_row13_col14\" class=\"data row13 col14\" >0.313057</td>\n                        <td id=\"T_42f22_row13_col15\" class=\"data row13 col15\" >0.361325</td>\n                        <td id=\"T_42f22_row13_col16\" class=\"data row13 col16\" >0.336999</td>\n                        <td id=\"T_42f22_row13_col17\" class=\"data row13 col17\" >0.252729</td>\n                        <td id=\"T_42f22_row13_col18\" class=\"data row13 col18\" >0.021667</td>\n                        <td id=\"T_42f22_row13_col19\" class=\"data row13 col19\" >0.056469</td>\n                        <td id=\"T_42f22_row13_col20\" class=\"data row13 col20\" >0.089478</td>\n                        <td id=\"T_42f22_row13_col21\" class=\"data row13 col21\" >0.096524</td>\n                        <td id=\"T_42f22_row13_col22\" class=\"data row13 col22\" >0.021002</td>\n                        <td id=\"T_42f22_row13_col23\" class=\"data row13 col23\" >-0.047707</td>\n            </tr>\n            <tr>\n                        <th id=\"T_42f22_level0_row14\" class=\"row_heading level0 row14\" >Fireplaces</th>\n                        <td id=\"T_42f22_row14_col0\" class=\"data row14 col0\" >0.033029</td>\n                        <td id=\"T_42f22_row14_col1\" class=\"data row14 col1\" >0.262680</td>\n                        <td id=\"T_42f22_row14_col2\" class=\"data row14 col2\" >0.181775</td>\n                        <td id=\"T_42f22_row14_col3\" class=\"data row14 col3\" >0.129410</td>\n                        <td id=\"T_42f22_row14_col4\" class=\"data row14 col4\" >0.002201</td>\n                        <td id=\"T_42f22_row14_col5\" class=\"data row14 col5\" >0.344515</td>\n                        <td id=\"T_42f22_row14_col6\" class=\"data row14 col6\" >0.422905</td>\n                        <td id=\"T_42f22_row14_col7\" class=\"data row14 col7\" >0.167434</td>\n                        <td id=\"T_42f22_row14_col8\" class=\"data row14 col8\" >0.468931</td>\n                        <td id=\"T_42f22_row14_col9\" class=\"data row14 col9\" >0.185465</td>\n                        <td id=\"T_42f22_row14_col10\" class=\"data row14 col10\" >0.246725</td>\n                        <td id=\"T_42f22_row14_col11\" class=\"data row14 col11\" >0.075520</td>\n                        <td id=\"T_42f22_row14_col12\" class=\"data row14 col12\" >-0.095141</td>\n                        <td id=\"T_42f22_row14_col13\" class=\"data row14 col13\" >0.313057</td>\n                        <td id=\"T_42f22_row14_col14\" class=\"data row14 col14\" >1.000000</td>\n                        <td id=\"T_42f22_row14_col15\" class=\"data row14 col15\" >0.317459</td>\n                        <td id=\"T_42f22_row14_col16\" class=\"data row14 col16\" >0.288722</td>\n                        <td id=\"T_42f22_row14_col17\" class=\"data row14 col17\" >0.153456</td>\n                        <td id=\"T_42f22_row14_col18\" class=\"data row14 col18\" >0.005340</td>\n                        <td id=\"T_42f22_row14_col19\" class=\"data row14 col19\" >0.165999</td>\n                        <td id=\"T_42f22_row14_col20\" class=\"data row14 col20\" >0.119078</td>\n                        <td id=\"T_42f22_row14_col21\" class=\"data row14 col21\" >0.029656</td>\n                        <td id=\"T_42f22_row14_col22\" class=\"data row14 col22\" >0.009928</td>\n                        <td id=\"T_42f22_row14_col23\" class=\"data row14 col23\" >-0.001580</td>\n            </tr>\n            <tr>\n                        <th id=\"T_42f22_level0_row15\" class=\"row_heading level0 row15\" >Garage_Cars</th>\n                        <td id=\"T_42f22_row15_col0\" class=\"data row15 col0\" >0.139894</td>\n                        <td id=\"T_42f22_row15_col1\" class=\"data row15 col1\" >0.163884</td>\n                        <td id=\"T_42f22_row15_col2\" class=\"data row15 col2\" >0.557802</td>\n                        <td id=\"T_42f22_row15_col3\" class=\"data row15 col3\" >0.457665</td>\n                        <td id=\"T_42f22_row15_col4\" class=\"data row15 col4\" >0.167403</td>\n                        <td id=\"T_42f22_row15_col5\" class=\"data row15 col5\" >0.427998</td>\n                        <td id=\"T_42f22_row15_col6\" class=\"data row15 col6\" >0.431460</td>\n                        <td id=\"T_42f22_row15_col7\" class=\"data row15 col7\" >0.185257</td>\n                        <td id=\"T_42f22_row15_col8\" class=\"data row15 col8\" >0.485702</td>\n                        <td id=\"T_42f22_row15_col9\" class=\"data row15 col9\" >0.172393</td>\n                        <td id=\"T_42f22_row15_col10\" class=\"data row15 col10\" >0.487064</td>\n                        <td id=\"T_42f22_row15_col11\" class=\"data row15 col11\" >0.093538</td>\n                        <td id=\"T_42f22_row15_col12\" class=\"data row15 col12\" >-0.044836</td>\n                        <td id=\"T_42f22_row15_col13\" class=\"data row15 col13\" >0.361325</td>\n                        <td id=\"T_42f22_row15_col14\" class=\"data row15 col14\" >0.317459</td>\n                        <td id=\"T_42f22_row15_col15\" class=\"data row15 col15\" >1.000000</td>\n                        <td id=\"T_42f22_row15_col16\" class=\"data row15 col16\" >0.884868</td>\n                        <td id=\"T_42f22_row15_col17\" class=\"data row15 col17\" >0.193986</td>\n                        <td id=\"T_42f22_row15_col18\" class=\"data row15 col18\" >-0.154567</td>\n                        <td id=\"T_42f22_row15_col19\" class=\"data row15 col19\" >0.056129</td>\n                        <td id=\"T_42f22_row15_col20\" class=\"data row15 col20\" >0.035897</td>\n                        <td id=\"T_42f22_row15_col21\" class=\"data row15 col21\" >0.007792</td>\n                        <td id=\"T_42f22_row15_col22\" class=\"data row15 col22\" >0.038539</td>\n                        <td id=\"T_42f22_row15_col23\" class=\"data row15 col23\" >-0.028576</td>\n            </tr>\n            <tr>\n                        <th id=\"T_42f22_level0_row16\" class=\"row_heading level0 row16\" >Garage_Area</th>\n                        <td id=\"T_42f22_row16_col0\" class=\"data row16 col0\" >0.186250</td>\n                        <td id=\"T_42f22_row16_col1\" class=\"data row16 col1\" >0.198731</td>\n                        <td id=\"T_42f22_row16_col2\" class=\"data row16 col2\" >0.489497</td>\n                        <td id=\"T_42f22_row16_col3\" class=\"data row16 col3\" >0.401136</td>\n                        <td id=\"T_42f22_row16_col4\" class=\"data row16 col4\" >0.147189</td>\n                        <td id=\"T_42f22_row16_col5\" class=\"data row16 col5\" >0.478705</td>\n                        <td id=\"T_42f22_row16_col6\" class=\"data row16 col6\" >0.489916</td>\n                        <td id=\"T_42f22_row16_col7\" class=\"data row16 col7\" >0.126123</td>\n                        <td id=\"T_42f22_row16_col8\" class=\"data row16 col8\" >0.483365</td>\n                        <td id=\"T_42f22_row16_col9\" class=\"data row16 col9\" >0.198040</td>\n                        <td id=\"T_42f22_row16_col10\" class=\"data row16 col10\" >0.411278</td>\n                        <td id=\"T_42f22_row16_col11\" class=\"data row16 col11\" >0.069397</td>\n                        <td id=\"T_42f22_row16_col12\" class=\"data row16 col12\" >-0.053430</td>\n                        <td id=\"T_42f22_row16_col13\" class=\"data row16 col13\" >0.336999</td>\n                        <td id=\"T_42f22_row16_col14\" class=\"data row16 col14\" >0.288722</td>\n                        <td id=\"T_42f22_row16_col15\" class=\"data row16 col15\" >0.884868</td>\n                        <td id=\"T_42f22_row16_col16\" class=\"data row16 col16\" >1.000000</td>\n                        <td id=\"T_42f22_row16_col17\" class=\"data row16 col17\" >0.229607</td>\n                        <td id=\"T_42f22_row16_col18\" class=\"data row16 col18\" >-0.126690</td>\n                        <td id=\"T_42f22_row16_col19\" class=\"data row16 col19\" >0.087983</td>\n                        <td id=\"T_42f22_row16_col20\" class=\"data row16 col20\" >0.063189</td>\n                        <td id=\"T_42f22_row16_col21\" class=\"data row16 col21\" >0.042697</td>\n                        <td id=\"T_42f22_row16_col22\" class=\"data row16 col22\" >0.026473</td>\n                        <td id=\"T_42f22_row16_col23\" class=\"data row16 col23\" >-0.009217</td>\n            </tr>\n            <tr>\n                        <th id=\"T_42f22_level0_row17\" class=\"row_heading level0 row17\" >Open_Porch_SF</th>\n                        <td id=\"T_42f22_row17_col0\" class=\"data row17 col0\" >0.118929</td>\n                        <td id=\"T_42f22_row17_col1\" class=\"data row17 col1\" >0.091138</td>\n                        <td id=\"T_42f22_row17_col2\" class=\"data row17 col2\" >0.189826</td>\n                        <td id=\"T_42f22_row17_col3\" class=\"data row17 col3\" >0.225041</td>\n                        <td id=\"T_42f22_row17_col4\" class=\"data row17 col4\" >0.137967</td>\n                        <td id=\"T_42f22_row17_col5\" class=\"data row17 col5\" >0.241267</td>\n                        <td id=\"T_42f22_row17_col6\" class=\"data row17 col6\" >0.243664</td>\n                        <td id=\"T_42f22_row17_col7\" class=\"data row17 col7\" >0.187509</td>\n                        <td id=\"T_42f22_row17_col8\" class=\"data row17 col8\" >0.347303</td>\n                        <td id=\"T_42f22_row17_col9\" class=\"data row17 col9\" >0.074898</td>\n                        <td id=\"T_42f22_row17_col10\" class=\"data row17 col10\" >0.247223</td>\n                        <td id=\"T_42f22_row17_col11\" class=\"data row17 col11\" >0.094697</td>\n                        <td id=\"T_42f22_row17_col12\" class=\"data row17 col12\" >-0.069765</td>\n                        <td id=\"T_42f22_row17_col13\" class=\"data row17 col13\" >0.252729</td>\n                        <td id=\"T_42f22_row17_col14\" class=\"data row17 col14\" >0.153456</td>\n                        <td id=\"T_42f22_row17_col15\" class=\"data row17 col15\" >0.193986</td>\n                        <td id=\"T_42f22_row17_col16\" class=\"data row17 col16\" >0.229607</td>\n                        <td id=\"T_42f22_row17_col17\" class=\"data row17 col17\" >1.000000</td>\n                        <td id=\"T_42f22_row17_col18\" class=\"data row17 col18\" >-0.079290</td>\n                        <td id=\"T_42f22_row17_col19\" class=\"data row17 col19\" >0.034732</td>\n                        <td id=\"T_42f22_row17_col20\" class=\"data row17 col20\" >0.066451</td>\n                        <td id=\"T_42f22_row17_col21\" class=\"data row17 col21\" >0.146164</td>\n                        <td id=\"T_42f22_row17_col22\" class=\"data row17 col22\" >0.038895</td>\n                        <td id=\"T_42f22_row17_col23\" class=\"data row17 col23\" >-0.051781</td>\n            </tr>\n            <tr>\n                        <th id=\"T_42f22_level0_row18\" class=\"row_heading level0 row18\" >Enclosed_Porch</th>\n                        <td id=\"T_42f22_row18_col0\" class=\"data row18 col0\" >0.010603</td>\n                        <td id=\"T_42f22_row18_col1\" class=\"data row18 col1\" >0.018828</td>\n                        <td id=\"T_42f22_row18_col2\" class=\"data row18 col2\" >-0.392310</td>\n                        <td id=\"T_42f22_row18_col3\" class=\"data row18 col3\" >-0.206636</td>\n                        <td id=\"T_42f22_row18_col4\" class=\"data row18 col4\" >0.017436</td>\n                        <td id=\"T_42f22_row18_col5\" class=\"data row18 col5\" >-0.069437</td>\n                        <td id=\"T_42f22_row18_col6\" class=\"data row18 col6\" >-0.043165</td>\n                        <td id=\"T_42f22_row18_col7\" class=\"data row18 col7\" >0.038764</td>\n                        <td id=\"T_42f22_row18_col8\" class=\"data row18 col8\" >0.010748</td>\n                        <td id=\"T_42f22_row18_col9\" class=\"data row18 col9\" >-0.059397</td>\n                        <td id=\"T_42f22_row18_col10\" class=\"data row18 col10\" >-0.129035</td>\n                        <td id=\"T_42f22_row18_col11\" class=\"data row18 col11\" >0.057361</td>\n                        <td id=\"T_42f22_row18_col12\" class=\"data row18 col12\" >0.024300</td>\n                        <td id=\"T_42f22_row18_col13\" class=\"data row18 col13\" >0.021667</td>\n                        <td id=\"T_42f22_row18_col14\" class=\"data row18 col14\" >0.005340</td>\n                        <td id=\"T_42f22_row18_col15\" class=\"data row18 col15\" >-0.154567</td>\n                        <td id=\"T_42f22_row18_col16\" class=\"data row18 col16\" >-0.126690</td>\n                        <td id=\"T_42f22_row18_col17\" class=\"data row18 col17\" >-0.079290</td>\n                        <td id=\"T_42f22_row18_col18\" class=\"data row18 col18\" >1.000000</td>\n                        <td id=\"T_42f22_row18_col19\" class=\"data row18 col19\" >-0.075926</td>\n                        <td id=\"T_42f22_row18_col20\" class=\"data row18 col20\" >0.030802</td>\n                        <td id=\"T_42f22_row18_col21\" class=\"data row18 col21\" >0.012302</td>\n                        <td id=\"T_42f22_row18_col22\" class=\"data row18 col22\" >-0.010964</td>\n                        <td id=\"T_42f22_row18_col23\" class=\"data row18 col23\" >0.038315</td>\n            </tr>\n            <tr>\n                        <th id=\"T_42f22_level0_row19\" class=\"row_heading level0 row19\" >Screen_Porch</th>\n                        <td id=\"T_42f22_row19_col0\" class=\"data row19 col0\" >0.038471</td>\n                        <td id=\"T_42f22_row19_col1\" class=\"data row19 col1\" >0.054355</td>\n                        <td id=\"T_42f22_row19_col2\" class=\"data row19 col2\" >-0.028758</td>\n                        <td id=\"T_42f22_row19_col3\" class=\"data row19 col3\" >-0.021506</td>\n                        <td id=\"T_42f22_row19_col4\" class=\"data row19 col4\" >-0.046666</td>\n                        <td id=\"T_42f22_row19_col5\" class=\"data row19 col5\" >0.092349</td>\n                        <td id=\"T_42f22_row19_col6\" class=\"data row19 col6\" >0.105404</td>\n                        <td id=\"T_42f22_row19_col7\" class=\"data row19 col7\" >0.036050</td>\n                        <td id=\"T_42f22_row19_col8\" class=\"data row19 col8\" >0.114055</td>\n                        <td id=\"T_42f22_row19_col9\" class=\"data row19 col9\" >0.061914</td>\n                        <td id=\"T_42f22_row19_col10\" class=\"data row19 col10\" >0.013397</td>\n                        <td id=\"T_42f22_row19_col11\" class=\"data row19 col11\" >0.012474</td>\n                        <td id=\"T_42f22_row19_col12\" class=\"data row19 col12\" >-0.059198</td>\n                        <td id=\"T_42f22_row19_col13\" class=\"data row19 col13\" >0.056469</td>\n                        <td id=\"T_42f22_row19_col14\" class=\"data row19 col14\" >0.165999</td>\n                        <td id=\"T_42f22_row19_col15\" class=\"data row19 col15\" >0.056129</td>\n                        <td id=\"T_42f22_row19_col16\" class=\"data row19 col16\" >0.087983</td>\n                        <td id=\"T_42f22_row19_col17\" class=\"data row19 col17\" >0.034732</td>\n                        <td id=\"T_42f22_row19_col18\" class=\"data row19 col18\" >-0.075926</td>\n                        <td id=\"T_42f22_row19_col19\" class=\"data row19 col19\" >1.000000</td>\n                        <td id=\"T_42f22_row19_col20\" class=\"data row19 col20\" >0.033837</td>\n                        <td id=\"T_42f22_row19_col21\" class=\"data row19 col21\" >0.010961</td>\n                        <td id=\"T_42f22_row19_col22\" class=\"data row19 col22\" >0.025426</td>\n                        <td id=\"T_42f22_row19_col23\" class=\"data row19 col23\" >-0.007794</td>\n            </tr>\n            <tr>\n                        <th id=\"T_42f22_level0_row20\" class=\"row_heading level0 row20\" >Pool_Area</th>\n                        <td id=\"T_42f22_row20_col0\" class=\"data row20 col0\" >0.132831</td>\n                        <td id=\"T_42f22_row20_col1\" class=\"data row20 col1\" >0.092522</td>\n                        <td id=\"T_42f22_row20_col2\" class=\"data row20 col2\" >-0.001620</td>\n                        <td id=\"T_42f22_row20_col3\" class=\"data row20 col3\" >-0.015097</td>\n                        <td id=\"T_42f22_row20_col4\" class=\"data row20 col4\" >-0.043865</td>\n                        <td id=\"T_42f22_row20_col5\" class=\"data row20 col5\" >0.095205</td>\n                        <td id=\"T_42f22_row20_col6\" class=\"data row20 col6\" >0.142711</td>\n                        <td id=\"T_42f22_row20_col7\" class=\"data row20 col7\" >0.054203</td>\n                        <td id=\"T_42f22_row20_col8\" class=\"data row20 col8\" >0.160529</td>\n                        <td id=\"T_42f22_row20_col9\" class=\"data row20 col9\" >0.061529</td>\n                        <td id=\"T_42f22_row20_col10\" class=\"data row20 col10\" >0.029986</td>\n                        <td id=\"T_42f22_row20_col11\" class=\"data row20 col11\" >0.042984</td>\n                        <td id=\"T_42f22_row20_col12\" class=\"data row20 col12\" >-0.015332</td>\n                        <td id=\"T_42f22_row20_col13\" class=\"data row20 col13\" >0.089478</td>\n                        <td id=\"T_42f22_row20_col14\" class=\"data row20 col14\" >0.119078</td>\n                        <td id=\"T_42f22_row20_col15\" class=\"data row20 col15\" >0.035897</td>\n                        <td id=\"T_42f22_row20_col16\" class=\"data row20 col16\" >0.063189</td>\n                        <td id=\"T_42f22_row20_col17\" class=\"data row20 col17\" >0.066451</td>\n                        <td id=\"T_42f22_row20_col18\" class=\"data row20 col18\" >0.030802</td>\n                        <td id=\"T_42f22_row20_col19\" class=\"data row20 col19\" >0.033837</td>\n                        <td id=\"T_42f22_row20_col20\" class=\"data row20 col20\" >1.000000</td>\n                        <td id=\"T_42f22_row20_col21\" class=\"data row20 col21\" >0.019641</td>\n                        <td id=\"T_42f22_row20_col22\" class=\"data row20 col22\" >-0.050323</td>\n                        <td id=\"T_42f22_row20_col23\" class=\"data row20 col23\" >-0.062700</td>\n            </tr>\n            <tr>\n                        <th id=\"T_42f22_level0_row21\" class=\"row_heading level0 row21\" >Misc_Val</th>\n                        <td id=\"T_42f22_row21_col0\" class=\"data row21 col0\" >0.033371</td>\n                        <td id=\"T_42f22_row21_col1\" class=\"data row21 col1\" >0.087625</td>\n                        <td id=\"T_42f22_row21_col2\" class=\"data row21 col2\" >0.001983</td>\n                        <td id=\"T_42f22_row21_col3\" class=\"data row21 col3\" >0.005636</td>\n                        <td id=\"T_42f22_row21_col4\" class=\"data row21 col4\" >-0.007425</td>\n                        <td id=\"T_42f22_row21_col5\" class=\"data row21 col5\" >0.142326</td>\n                        <td id=\"T_42f22_row21_col6\" class=\"data row21 col6\" >0.166099</td>\n                        <td id=\"T_42f22_row21_col7\" class=\"data row21 col7\" >-0.005029</td>\n                        <td id=\"T_42f22_row21_col8\" class=\"data row21 col8\" >0.124307</td>\n                        <td id=\"T_42f22_row21_col9\" class=\"data row21 col9\" >0.023807</td>\n                        <td id=\"T_42f22_row21_col10\" class=\"data row21 col10\" >0.010783</td>\n                        <td id=\"T_42f22_row21_col11\" class=\"data row21 col11\" >-0.002508</td>\n                        <td id=\"T_42f22_row21_col12\" class=\"data row21 col12\" >0.016563</td>\n                        <td id=\"T_42f22_row21_col13\" class=\"data row21 col13\" >0.096524</td>\n                        <td id=\"T_42f22_row21_col14\" class=\"data row21 col14\" >0.029656</td>\n                        <td id=\"T_42f22_row21_col15\" class=\"data row21 col15\" >0.007792</td>\n                        <td id=\"T_42f22_row21_col16\" class=\"data row21 col16\" >0.042697</td>\n                        <td id=\"T_42f22_row21_col17\" class=\"data row21 col17\" >0.146164</td>\n                        <td id=\"T_42f22_row21_col18\" class=\"data row21 col18\" >0.012302</td>\n                        <td id=\"T_42f22_row21_col19\" class=\"data row21 col19\" >0.010961</td>\n                        <td id=\"T_42f22_row21_col20\" class=\"data row21 col20\" >0.019641</td>\n                        <td id=\"T_42f22_row21_col21\" class=\"data row21 col21\" >1.000000</td>\n                        <td id=\"T_42f22_row21_col22\" class=\"data row21 col22\" >0.017908</td>\n                        <td id=\"T_42f22_row21_col23\" class=\"data row21 col23\" >0.000918</td>\n            </tr>\n            <tr>\n                        <th id=\"T_42f22_level0_row22\" class=\"row_heading level0 row22\" >Mo_Sold</th>\n                        <td id=\"T_42f22_row22_col0\" class=\"data row22 col0\" >0.024456</td>\n                        <td id=\"T_42f22_row22_col1\" class=\"data row22 col1\" >-0.000600</td>\n                        <td id=\"T_42f22_row22_col2\" class=\"data row22 col2\" >0.002956</td>\n                        <td id=\"T_42f22_row22_col3\" class=\"data row22 col3\" >0.024650</td>\n                        <td id=\"T_42f22_row22_col4\" class=\"data row22 col4\" >0.028130</td>\n                        <td id=\"T_42f22_row22_col5\" class=\"data row22 col5\" >-0.001421</td>\n                        <td id=\"T_42f22_row22_col6\" class=\"data row22 col6\" >0.013537</td>\n                        <td id=\"T_42f22_row22_col7\" class=\"data row22 col7\" >0.017977</td>\n                        <td id=\"T_42f22_row22_col8\" class=\"data row22 col8\" >0.026005</td>\n                        <td id=\"T_42f22_row22_col9\" class=\"data row22 col9\" >-0.025507</td>\n                        <td id=\"T_42f22_row22_col10\" class=\"data row22 col10\" >0.023917</td>\n                        <td id=\"T_42f22_row22_col11\" class=\"data row22 col11\" >0.025293</td>\n                        <td id=\"T_42f22_row22_col12\" class=\"data row22 col12\" >0.007498</td>\n                        <td id=\"T_42f22_row22_col13\" class=\"data row22 col13\" >0.021002</td>\n                        <td id=\"T_42f22_row22_col14\" class=\"data row22 col14\" >0.009928</td>\n                        <td id=\"T_42f22_row22_col15\" class=\"data row22 col15\" >0.038539</td>\n                        <td id=\"T_42f22_row22_col16\" class=\"data row22 col16\" >0.026473</td>\n                        <td id=\"T_42f22_row22_col17\" class=\"data row22 col17\" >0.038895</td>\n                        <td id=\"T_42f22_row22_col18\" class=\"data row22 col18\" >-0.010964</td>\n                        <td id=\"T_42f22_row22_col19\" class=\"data row22 col19\" >0.025426</td>\n                        <td id=\"T_42f22_row22_col20\" class=\"data row22 col20\" >-0.050323</td>\n                        <td id=\"T_42f22_row22_col21\" class=\"data row22 col21\" >0.017908</td>\n                        <td id=\"T_42f22_row22_col22\" class=\"data row22 col22\" >1.000000</td>\n                        <td id=\"T_42f22_row22_col23\" class=\"data row22 col23\" >-0.155104</td>\n            </tr>\n            <tr>\n                        <th id=\"T_42f22_level0_row23\" class=\"row_heading level0 row23\" >Year_Sold</th>\n                        <td id=\"T_42f22_row23_col0\" class=\"data row23 col0\" >-0.028451</td>\n                        <td id=\"T_42f22_row23_col1\" class=\"data row23 col1\" >-0.022404</td>\n                        <td id=\"T_42f22_row23_col2\" class=\"data row23 col2\" >-0.039528</td>\n                        <td id=\"T_42f22_row23_col3\" class=\"data row23 col3\" >-0.001904</td>\n                        <td id=\"T_42f22_row23_col4\" class=\"data row23 col4\" >-0.053435</td>\n                        <td id=\"T_42f22_row23_col5\" class=\"data row23 col5\" >-0.022353</td>\n                        <td id=\"T_42f22_row23_col6\" class=\"data row23 col6\" >-0.030226</td>\n                        <td id=\"T_42f22_row23_col7\" class=\"data row23 col7\" >-0.025137</td>\n                        <td id=\"T_42f22_row23_col8\" class=\"data row23 col8\" >-0.045400</td>\n                        <td id=\"T_42f22_row23_col9\" class=\"data row23 col9\" >0.046173</td>\n                        <td id=\"T_42f22_row23_col10\" class=\"data row23 col10\" >-0.029978</td>\n                        <td id=\"T_42f22_row23_col11\" class=\"data row23 col11\" >-0.012077</td>\n                        <td id=\"T_42f22_row23_col12\" class=\"data row23 col12\" >0.048693</td>\n                        <td id=\"T_42f22_row23_col13\" class=\"data row23 col13\" >-0.047707</td>\n                        <td id=\"T_42f22_row23_col14\" class=\"data row23 col14\" >-0.001580</td>\n                        <td id=\"T_42f22_row23_col15\" class=\"data row23 col15\" >-0.028576</td>\n                        <td id=\"T_42f22_row23_col16\" class=\"data row23 col16\" >-0.009217</td>\n                        <td id=\"T_42f22_row23_col17\" class=\"data row23 col17\" >-0.051781</td>\n                        <td id=\"T_42f22_row23_col18\" class=\"data row23 col18\" >0.038315</td>\n                        <td id=\"T_42f22_row23_col19\" class=\"data row23 col19\" >-0.007794</td>\n                        <td id=\"T_42f22_row23_col20\" class=\"data row23 col20\" >-0.062700</td>\n                        <td id=\"T_42f22_row23_col21\" class=\"data row23 col21\" >0.000918</td>\n                        <td id=\"T_42f22_row23_col22\" class=\"data row23 col22\" >-0.155104</td>\n                        <td id=\"T_42f22_row23_col23\" class=\"data row23 col23\" >1.000000</td>\n            </tr>\n    </tbody></table>"
     },
     "execution_count": 12,
     "metadata": {},
     "output_type": "execute_result"
    }
   ],
   "source": [
    "correlation = X_train.corr()\n",
    "correlation.style.background_gradient()"
   ],
   "metadata": {
    "collapsed": false,
    "pycharm": {
     "name": "#%%\n"
    }
   }
  },
  {
   "cell_type": "markdown",
   "source": [
    "Ouvrir le fichier test"
   ],
   "metadata": {
    "collapsed": false,
    "pycharm": {
     "name": "#%% md\n"
    }
   }
  },
  {
   "cell_type": "code",
   "execution_count": 13,
   "outputs": [
    {
     "data": {
      "text/plain": "   index                           MS_SubClass                     MS_Zoning  \\\n0   1476              Two_Story_1946_and_Newer       Residential_Low_Density   \n1    781  One_and_Half_Story_Finished_All_Ages       Residential_Low_Density   \n2   2374   One_Story_1946_and_Newer_All_Styles       Residential_Low_Density   \n3    270   One_Story_1946_and_Newer_All_Styles       Residential_Low_Density   \n4      9              Two_Story_1946_and_Newer       Residential_Low_Density   \n5   2535   One_Story_1946_and_Newer_All_Styles       Residential_Low_Density   \n6    424   One_Story_1946_and_Newer_All_Styles       Residential_Low_Density   \n7   1110   One_Story_1946_and_Newer_All_Styles       Residential_Low_Density   \n8   2515   One_Story_1946_and_Newer_All_Styles  Floating_Village_Residential   \n9   2274   One_Story_1946_and_Newer_All_Styles       Residential_Low_Density   \n\n   Lot_Frontage  Lot_Area Street            Alley             Lot_Shape  \\\n0            64      8320   Pave  No_Alley_Access               Regular   \n1             0     11250   Pave  No_Alley_Access               Regular   \n2            65      7514   Pave  No_Alley_Access               Regular   \n3            48     10635   Pave  No_Alley_Access  Moderately_Irregular   \n4            60      7500   Pave  No_Alley_Access               Regular   \n5            70      8400   Pave  No_Alley_Access               Regular   \n6           108     13173   Pave  No_Alley_Access    Slightly_Irregular   \n7            92     11932   Pave  No_Alley_Access               Regular   \n8            60      7180   Pave            Paved    Slightly_Irregular   \n9            93     15306   Pave  No_Alley_Access    Slightly_Irregular   \n\n  Land_Contour Utilities  ... Screen_Porch Pool_Area  Pool_QC      Fence  \\\n0          Lvl    AllPub  ...            0         0  No_Pool   No_Fence   \n1          Lvl    AllPub  ...            0         0  No_Pool   No_Fence   \n2          Lvl    AllPub  ...            0         0  No_Pool   No_Fence   \n3          Lvl    AllPub  ...            0         0  No_Pool   No_Fence   \n4          Lvl    AllPub  ...            0         0  No_Pool   No_Fence   \n5          Lvl    AllPub  ...            0         0  No_Pool  Good_Wood   \n6          Lvl    AllPub  ...            0         0  No_Pool   No_Fence   \n7          Lvl    AllPub  ...            0         0  No_Pool   No_Fence   \n8          Lvl    AllPub  ...            0         0  No_Pool   No_Fence   \n9          HLS    AllPub  ...            0         0  No_Pool   No_Fence   \n\n   Misc_Feature  Misc_Val Mo_Sold Year_Sold Sale_Type Sale_Condition  \n0          None         0       9      2008       WD          Normal  \n1          None         0      11      2009       WD          Normal  \n2          None         0       9      2006       WD          Normal  \n3          None         0       5      2010       WD          Normal  \n4          None         0       6      2010       WD          Normal  \n5          None         0      11      2006       WD          Normal  \n6          None         0      11      2009       WD          Normal  \n7          None         0       6      2008     ConLD        Partial  \n8          None         0       9      2006       WD          Normal  \n9          None         0       5      2007       New        Partial  \n\n[10 rows x 59 columns]",
      "text/html": "<div>\n<style scoped>\n    .dataframe tbody tr th:only-of-type {\n        vertical-align: middle;\n    }\n\n    .dataframe tbody tr th {\n        vertical-align: top;\n    }\n\n    .dataframe thead th {\n        text-align: right;\n    }\n</style>\n<table border=\"1\" class=\"dataframe\">\n  <thead>\n    <tr style=\"text-align: right;\">\n      <th></th>\n      <th>index</th>\n      <th>MS_SubClass</th>\n      <th>MS_Zoning</th>\n      <th>Lot_Frontage</th>\n      <th>Lot_Area</th>\n      <th>Street</th>\n      <th>Alley</th>\n      <th>Lot_Shape</th>\n      <th>Land_Contour</th>\n      <th>Utilities</th>\n      <th>...</th>\n      <th>Screen_Porch</th>\n      <th>Pool_Area</th>\n      <th>Pool_QC</th>\n      <th>Fence</th>\n      <th>Misc_Feature</th>\n      <th>Misc_Val</th>\n      <th>Mo_Sold</th>\n      <th>Year_Sold</th>\n      <th>Sale_Type</th>\n      <th>Sale_Condition</th>\n    </tr>\n  </thead>\n  <tbody>\n    <tr>\n      <th>0</th>\n      <td>1476</td>\n      <td>Two_Story_1946_and_Newer</td>\n      <td>Residential_Low_Density</td>\n      <td>64</td>\n      <td>8320</td>\n      <td>Pave</td>\n      <td>No_Alley_Access</td>\n      <td>Regular</td>\n      <td>Lvl</td>\n      <td>AllPub</td>\n      <td>...</td>\n      <td>0</td>\n      <td>0</td>\n      <td>No_Pool</td>\n      <td>No_Fence</td>\n      <td>None</td>\n      <td>0</td>\n      <td>9</td>\n      <td>2008</td>\n      <td>WD</td>\n      <td>Normal</td>\n    </tr>\n    <tr>\n      <th>1</th>\n      <td>781</td>\n      <td>One_and_Half_Story_Finished_All_Ages</td>\n      <td>Residential_Low_Density</td>\n      <td>0</td>\n      <td>11250</td>\n      <td>Pave</td>\n      <td>No_Alley_Access</td>\n      <td>Regular</td>\n      <td>Lvl</td>\n      <td>AllPub</td>\n      <td>...</td>\n      <td>0</td>\n      <td>0</td>\n      <td>No_Pool</td>\n      <td>No_Fence</td>\n      <td>None</td>\n      <td>0</td>\n      <td>11</td>\n      <td>2009</td>\n      <td>WD</td>\n      <td>Normal</td>\n    </tr>\n    <tr>\n      <th>2</th>\n      <td>2374</td>\n      <td>One_Story_1946_and_Newer_All_Styles</td>\n      <td>Residential_Low_Density</td>\n      <td>65</td>\n      <td>7514</td>\n      <td>Pave</td>\n      <td>No_Alley_Access</td>\n      <td>Regular</td>\n      <td>Lvl</td>\n      <td>AllPub</td>\n      <td>...</td>\n      <td>0</td>\n      <td>0</td>\n      <td>No_Pool</td>\n      <td>No_Fence</td>\n      <td>None</td>\n      <td>0</td>\n      <td>9</td>\n      <td>2006</td>\n      <td>WD</td>\n      <td>Normal</td>\n    </tr>\n    <tr>\n      <th>3</th>\n      <td>270</td>\n      <td>One_Story_1946_and_Newer_All_Styles</td>\n      <td>Residential_Low_Density</td>\n      <td>48</td>\n      <td>10635</td>\n      <td>Pave</td>\n      <td>No_Alley_Access</td>\n      <td>Moderately_Irregular</td>\n      <td>Lvl</td>\n      <td>AllPub</td>\n      <td>...</td>\n      <td>0</td>\n      <td>0</td>\n      <td>No_Pool</td>\n      <td>No_Fence</td>\n      <td>None</td>\n      <td>0</td>\n      <td>5</td>\n      <td>2010</td>\n      <td>WD</td>\n      <td>Normal</td>\n    </tr>\n    <tr>\n      <th>4</th>\n      <td>9</td>\n      <td>Two_Story_1946_and_Newer</td>\n      <td>Residential_Low_Density</td>\n      <td>60</td>\n      <td>7500</td>\n      <td>Pave</td>\n      <td>No_Alley_Access</td>\n      <td>Regular</td>\n      <td>Lvl</td>\n      <td>AllPub</td>\n      <td>...</td>\n      <td>0</td>\n      <td>0</td>\n      <td>No_Pool</td>\n      <td>No_Fence</td>\n      <td>None</td>\n      <td>0</td>\n      <td>6</td>\n      <td>2010</td>\n      <td>WD</td>\n      <td>Normal</td>\n    </tr>\n    <tr>\n      <th>5</th>\n      <td>2535</td>\n      <td>One_Story_1946_and_Newer_All_Styles</td>\n      <td>Residential_Low_Density</td>\n      <td>70</td>\n      <td>8400</td>\n      <td>Pave</td>\n      <td>No_Alley_Access</td>\n      <td>Regular</td>\n      <td>Lvl</td>\n      <td>AllPub</td>\n      <td>...</td>\n      <td>0</td>\n      <td>0</td>\n      <td>No_Pool</td>\n      <td>Good_Wood</td>\n      <td>None</td>\n      <td>0</td>\n      <td>11</td>\n      <td>2006</td>\n      <td>WD</td>\n      <td>Normal</td>\n    </tr>\n    <tr>\n      <th>6</th>\n      <td>424</td>\n      <td>One_Story_1946_and_Newer_All_Styles</td>\n      <td>Residential_Low_Density</td>\n      <td>108</td>\n      <td>13173</td>\n      <td>Pave</td>\n      <td>No_Alley_Access</td>\n      <td>Slightly_Irregular</td>\n      <td>Lvl</td>\n      <td>AllPub</td>\n      <td>...</td>\n      <td>0</td>\n      <td>0</td>\n      <td>No_Pool</td>\n      <td>No_Fence</td>\n      <td>None</td>\n      <td>0</td>\n      <td>11</td>\n      <td>2009</td>\n      <td>WD</td>\n      <td>Normal</td>\n    </tr>\n    <tr>\n      <th>7</th>\n      <td>1110</td>\n      <td>One_Story_1946_and_Newer_All_Styles</td>\n      <td>Residential_Low_Density</td>\n      <td>92</td>\n      <td>11932</td>\n      <td>Pave</td>\n      <td>No_Alley_Access</td>\n      <td>Regular</td>\n      <td>Lvl</td>\n      <td>AllPub</td>\n      <td>...</td>\n      <td>0</td>\n      <td>0</td>\n      <td>No_Pool</td>\n      <td>No_Fence</td>\n      <td>None</td>\n      <td>0</td>\n      <td>6</td>\n      <td>2008</td>\n      <td>ConLD</td>\n      <td>Partial</td>\n    </tr>\n    <tr>\n      <th>8</th>\n      <td>2515</td>\n      <td>One_Story_1946_and_Newer_All_Styles</td>\n      <td>Floating_Village_Residential</td>\n      <td>60</td>\n      <td>7180</td>\n      <td>Pave</td>\n      <td>Paved</td>\n      <td>Slightly_Irregular</td>\n      <td>Lvl</td>\n      <td>AllPub</td>\n      <td>...</td>\n      <td>0</td>\n      <td>0</td>\n      <td>No_Pool</td>\n      <td>No_Fence</td>\n      <td>None</td>\n      <td>0</td>\n      <td>9</td>\n      <td>2006</td>\n      <td>WD</td>\n      <td>Normal</td>\n    </tr>\n    <tr>\n      <th>9</th>\n      <td>2274</td>\n      <td>One_Story_1946_and_Newer_All_Styles</td>\n      <td>Residential_Low_Density</td>\n      <td>93</td>\n      <td>15306</td>\n      <td>Pave</td>\n      <td>No_Alley_Access</td>\n      <td>Slightly_Irregular</td>\n      <td>HLS</td>\n      <td>AllPub</td>\n      <td>...</td>\n      <td>0</td>\n      <td>0</td>\n      <td>No_Pool</td>\n      <td>No_Fence</td>\n      <td>None</td>\n      <td>0</td>\n      <td>5</td>\n      <td>2007</td>\n      <td>New</td>\n      <td>Partial</td>\n    </tr>\n  </tbody>\n</table>\n<p>10 rows × 59 columns</p>\n</div>"
     },
     "execution_count": 13,
     "metadata": {},
     "output_type": "execute_result"
    }
   ],
   "source": [
    "housing_test = pd.read_csv('X_test.csv')\n",
    "housing_test.head(10)"
   ],
   "metadata": {
    "collapsed": false,
    "pycharm": {
     "name": "#%%\n"
    }
   }
  },
  {
   "cell_type": "code",
   "execution_count": 14,
   "outputs": [],
   "source": [
    "X_test = housing_test.drop([\"index\"], axis=1)"
   ],
   "metadata": {
    "collapsed": false,
    "pycharm": {
     "name": "#%%\n"
    }
   }
  },
  {
   "cell_type": "markdown",
   "source": [
    "## Transformer"
   ],
   "metadata": {
    "collapsed": false,
    "pycharm": {
     "name": "#%% md\n"
    }
   }
  },
  {
   "cell_type": "markdown",
   "source": [
    "Encoder X_train sous forme ordinal"
   ],
   "metadata": {
    "collapsed": false
   }
  },
  {
   "cell_type": "code",
   "execution_count": 15,
   "outputs": [],
   "source": [
    "cols_quant = make_column_selector(dtype_exclude=np.number)\n",
    "cols_qual = make_column_selector(dtype_include=np.number)"
   ],
   "metadata": {
    "collapsed": false,
    "pycharm": {
     "name": "#%%\n"
    }
   }
  },
  {
   "cell_type": "code",
   "execution_count": 16,
   "outputs": [],
   "source": [
    "transfo_quanti = OrdinalEncoder(handle_unknown = 'use_encoded_value', unknown_value=-1)\n",
    "transfo_quali = MinMaxScaler()\n",
    "\n",
    "transformer = ColumnTransformer(transformers=[\n",
    "    ('quanti', transfo_quanti, cols_quant),\n",
    "    ('quali', transfo_quali, cols_qual)],\n",
    "    remainder='drop',\n",
    "    n_jobs=-1)\n",
    "\n",
    "X_train_transf = transformer.fit_transform(X_train)\n",
    "X_test_transf = transformer.transform(X_test)"
   ],
   "metadata": {
    "collapsed": false,
    "pycharm": {
     "name": "#%%\n"
    }
   }
  },
  {
   "cell_type": "markdown",
   "source": [
    "## Cleaning 1 -SelectPercentile for KNN"
   ],
   "metadata": {
    "collapsed": false,
    "pycharm": {
     "name": "#%% md\n"
    }
   }
  },
  {
   "cell_type": "code",
   "execution_count": 17,
   "outputs": [
    {
     "data": {
      "text/plain": "(1963, 6)"
     },
     "execution_count": 17,
     "metadata": {},
     "output_type": "execute_result"
    }
   ],
   "source": [
    "selector1= SelectPercentile(chi2)\n",
    "X_train_clean1 = selector1.fit_transform(X_train_transf, y_train)\n",
    "X_train_clean1.shape"
   ],
   "metadata": {
    "collapsed": false,
    "pycharm": {
     "name": "#%%\n"
    }
   }
  },
  {
   "cell_type": "markdown",
   "source": [
    "## Modèle 1 - KNN"
   ],
   "metadata": {
    "collapsed": false,
    "pycharm": {
     "name": "#%% md\n"
    }
   }
  },
  {
   "cell_type": "markdown",
   "source": [
    "Trouver les hyperparamètres"
   ],
   "metadata": {
    "collapsed": false,
    "pycharm": {
     "name": "#%% md\n"
    }
   }
  },
  {
   "cell_type": "code",
   "execution_count": 18,
   "outputs": [
    {
     "name": "stdout",
     "output_type": "stream",
     "text": [
      "Fitting 3 folds for each of 16 candidates, totalling 48 fits\n"
     ]
    },
    {
     "data": {
      "text/plain": "GridSearchCV(cv=3, estimator=KNeighborsClassifier(), n_jobs=-1,\n             param_grid={'metric': ['euclidean', 'manhattan'],\n                         'n_neighbors': [3, 5, 11, 19],\n                         'weights': ['uniform', 'distance']},\n             verbose=1)"
     },
     "execution_count": 18,
     "metadata": {},
     "output_type": "execute_result"
    }
   ],
   "source": [
    "grid_params1 = {\n",
    "    'n_neighbors': [3,5,11,19],\n",
    "    'weights': ['uniform', 'distance'],\n",
    "    'metric': ['euclidean', 'manhattan']\n",
    "}\n",
    "\n",
    "grid_search1 = GridSearchCV(\n",
    "                    KNeighborsClassifier(),\n",
    "                    grid_params1,\n",
    "                    verbose = 1,\n",
    "                    cv = 3,\n",
    "                    n_jobs = -1)\n",
    "grid_search1.fit(X_train_clean1, y_train)"
   ],
   "metadata": {
    "collapsed": false,
    "pycharm": {
     "name": "#%%\n"
    }
   }
  },
  {
   "cell_type": "code",
   "execution_count": 19,
   "outputs": [
    {
     "data": {
      "text/plain": "{'metric': 'manhattan', 'n_neighbors': 11, 'weights': 'distance'}"
     },
     "execution_count": 19,
     "metadata": {},
     "output_type": "execute_result"
    }
   ],
   "source": [
    "grid_search1.best_params_"
   ],
   "metadata": {
    "collapsed": false,
    "pycharm": {
     "name": "#%%\n"
    }
   }
  },
  {
   "cell_type": "markdown",
   "source": [
    "Entrainer le modèle"
   ],
   "metadata": {
    "collapsed": false,
    "pycharm": {
     "name": "#%% md\n"
    }
   }
  },
  {
   "cell_type": "code",
   "execution_count": 20,
   "outputs": [
    {
     "data": {
      "text/plain": "KNeighborsClassifier(metric='manhattan', n_neighbors=11, weights='distance')"
     },
     "execution_count": 20,
     "metadata": {},
     "output_type": "execute_result"
    }
   ],
   "source": [
    "model1 = KNeighborsClassifier(metric='manhattan', n_neighbors=11, weights='distance')\n",
    "model1.fit(X_train_clean1, y_train)"
   ],
   "metadata": {
    "collapsed": false,
    "pycharm": {
     "name": "#%%\n"
    }
   }
  },
  {
   "cell_type": "markdown",
   "source": [
    "Calculer les probabilités pour le set test\n",
    "\n"
   ],
   "metadata": {
    "collapsed": false,
    "pycharm": {
     "name": "#%% md\n"
    }
   }
  },
  {
   "cell_type": "code",
   "execution_count": 21,
   "outputs": [],
   "source": [
    "X_test_clean1 = selector1.transform(X_test_transf)"
   ],
   "metadata": {
    "collapsed": false,
    "pycharm": {
     "name": "#%%\n"
    }
   }
  },
  {
   "cell_type": "code",
   "execution_count": 22,
   "outputs": [
    {
     "data": {
      "text/plain": "array([[0.09090909, 0.54545455, 0.36363636, 0.        , 0.        ],\n       [0.        , 0.        , 0.        , 0.82758621, 0.17241379],\n       [0.        , 0.        , 0.18181818, 0.54545455, 0.27272727],\n       ...,\n       [0.        , 0.09302326, 0.86046512, 0.04651163, 0.        ],\n       [0.        , 0.        , 0.18181818, 0.54545455, 0.27272727],\n       [0.        , 0.        , 0.        , 0.875     , 0.125     ]])"
     },
     "execution_count": 22,
     "metadata": {},
     "output_type": "execute_result"
    }
   ],
   "source": [
    "y_test_proba1 = model1.predict_proba(X_test_clean1)\n",
    "y_test_proba1"
   ],
   "metadata": {
    "collapsed": false,
    "pycharm": {
     "name": "#%%\n"
    }
   }
  },
  {
   "cell_type": "markdown",
   "source": [
    "Sauvegarder le résultat"
   ],
   "metadata": {
    "collapsed": false,
    "pycharm": {
     "name": "#%% md\n"
    }
   }
  },
  {
   "cell_type": "code",
   "execution_count": 23,
   "outputs": [
    {
     "data": {
      "text/plain": "              A         B         C         D         E\nindex                                                  \n1476   0.090909  0.545455  0.363636  0.000000  0.000000\n781    0.000000  0.000000  0.000000  0.827586  0.172414\n2374   0.000000  0.000000  0.181818  0.545455  0.272727\n270    0.272727  0.636364  0.090909  0.000000  0.000000\n9      0.000000  0.000000  1.000000  0.000000  0.000000\n...         ...       ...       ...       ...       ...\n804    0.090909  0.545455  0.363636  0.000000  0.000000\n1038   0.000000  0.272727  0.181818  0.545455  0.000000\n1531   0.000000  0.093023  0.860465  0.046512  0.000000\n1049   0.000000  0.000000  0.181818  0.545455  0.272727\n969    0.000000  0.000000  0.000000  0.875000  0.125000\n\n[967 rows x 5 columns]",
      "text/html": "<div>\n<style scoped>\n    .dataframe tbody tr th:only-of-type {\n        vertical-align: middle;\n    }\n\n    .dataframe tbody tr th {\n        vertical-align: top;\n    }\n\n    .dataframe thead th {\n        text-align: right;\n    }\n</style>\n<table border=\"1\" class=\"dataframe\">\n  <thead>\n    <tr style=\"text-align: right;\">\n      <th></th>\n      <th>A</th>\n      <th>B</th>\n      <th>C</th>\n      <th>D</th>\n      <th>E</th>\n    </tr>\n    <tr>\n      <th>index</th>\n      <th></th>\n      <th></th>\n      <th></th>\n      <th></th>\n      <th></th>\n    </tr>\n  </thead>\n  <tbody>\n    <tr>\n      <th>1476</th>\n      <td>0.090909</td>\n      <td>0.545455</td>\n      <td>0.363636</td>\n      <td>0.000000</td>\n      <td>0.000000</td>\n    </tr>\n    <tr>\n      <th>781</th>\n      <td>0.000000</td>\n      <td>0.000000</td>\n      <td>0.000000</td>\n      <td>0.827586</td>\n      <td>0.172414</td>\n    </tr>\n    <tr>\n      <th>2374</th>\n      <td>0.000000</td>\n      <td>0.000000</td>\n      <td>0.181818</td>\n      <td>0.545455</td>\n      <td>0.272727</td>\n    </tr>\n    <tr>\n      <th>270</th>\n      <td>0.272727</td>\n      <td>0.636364</td>\n      <td>0.090909</td>\n      <td>0.000000</td>\n      <td>0.000000</td>\n    </tr>\n    <tr>\n      <th>9</th>\n      <td>0.000000</td>\n      <td>0.000000</td>\n      <td>1.000000</td>\n      <td>0.000000</td>\n      <td>0.000000</td>\n    </tr>\n    <tr>\n      <th>...</th>\n      <td>...</td>\n      <td>...</td>\n      <td>...</td>\n      <td>...</td>\n      <td>...</td>\n    </tr>\n    <tr>\n      <th>804</th>\n      <td>0.090909</td>\n      <td>0.545455</td>\n      <td>0.363636</td>\n      <td>0.000000</td>\n      <td>0.000000</td>\n    </tr>\n    <tr>\n      <th>1038</th>\n      <td>0.000000</td>\n      <td>0.272727</td>\n      <td>0.181818</td>\n      <td>0.545455</td>\n      <td>0.000000</td>\n    </tr>\n    <tr>\n      <th>1531</th>\n      <td>0.000000</td>\n      <td>0.093023</td>\n      <td>0.860465</td>\n      <td>0.046512</td>\n      <td>0.000000</td>\n    </tr>\n    <tr>\n      <th>1049</th>\n      <td>0.000000</td>\n      <td>0.000000</td>\n      <td>0.181818</td>\n      <td>0.545455</td>\n      <td>0.272727</td>\n    </tr>\n    <tr>\n      <th>969</th>\n      <td>0.000000</td>\n      <td>0.000000</td>\n      <td>0.000000</td>\n      <td>0.875000</td>\n      <td>0.125000</td>\n    </tr>\n  </tbody>\n</table>\n<p>967 rows × 5 columns</p>\n</div>"
     },
     "execution_count": 23,
     "metadata": {},
     "output_type": "execute_result"
    }
   ],
   "source": [
    "df = pd.DataFrame(y_test_proba1, index=housing_test['index'], columns = ['A', 'B', 'C', 'D','E'])\n",
    "df.to_csv(\"res1_KNN.csv\")\n",
    "df"
   ],
   "metadata": {
    "collapsed": false,
    "pycharm": {
     "name": "#%%\n"
    }
   }
  },
  {
   "cell_type": "markdown",
   "source": [
    "## Cleaning 2 - SGDClassifier"
   ],
   "metadata": {
    "collapsed": false
   }
  },
  {
   "cell_type": "markdown",
   "source": [
    "Sélectionner les caractèristiques en fonction du modèle (SGDClassifier)"
   ],
   "metadata": {
    "collapsed": false,
    "pycharm": {
     "name": "#%% md\n"
    }
   }
  },
  {
   "cell_type": "code",
   "execution_count": 24,
   "outputs": [
    {
     "data": {
      "text/plain": "(1963, 20)"
     },
     "execution_count": 24,
     "metadata": {},
     "output_type": "execute_result"
    }
   ],
   "source": [
    "selector2 = SelectFromModel(SGDClassifier(random_state=0), threshold='mean')\n",
    "X_train_clean2 = selector2.fit_transform(X_train_transf, y_train)\n",
    "X_train_clean2.shape"
   ],
   "metadata": {
    "collapsed": false,
    "pycharm": {
     "name": "#%%\n"
    }
   }
  },
  {
   "cell_type": "markdown",
   "source": [
    "## Modèle 2 - SGDClassifier"
   ],
   "metadata": {
    "collapsed": false,
    "pycharm": {
     "name": "#%% md\n"
    }
   }
  },
  {
   "cell_type": "markdown",
   "source": [
    "Trouver les hyperparamètres"
   ],
   "metadata": {
    "collapsed": false,
    "pycharm": {
     "name": "#%% md\n"
    }
   }
  },
  {
   "cell_type": "code",
   "execution_count": 25,
   "outputs": [
    {
     "name": "stderr",
     "output_type": "stream",
     "text": [
      "c:\\users\\laure\\onedrive\\documents\\umons\\2020-21\\q2\\machine learning\\projet\\venv\\lib\\site-packages\\sklearn\\linear_model\\_stochastic_gradient.py:574: ConvergenceWarning: Maximum number of iteration reached before convergence. Consider increasing max_iter to improve the fit.\n",
      "  warnings.warn(\"Maximum number of iteration reached before \"\n",
      "c:\\users\\laure\\onedrive\\documents\\umons\\2020-21\\q2\\machine learning\\projet\\venv\\lib\\site-packages\\sklearn\\linear_model\\_stochastic_gradient.py:574: ConvergenceWarning: Maximum number of iteration reached before convergence. Consider increasing max_iter to improve the fit.\n",
      "  warnings.warn(\"Maximum number of iteration reached before \"\n",
      "c:\\users\\laure\\onedrive\\documents\\umons\\2020-21\\q2\\machine learning\\projet\\venv\\lib\\site-packages\\sklearn\\linear_model\\_stochastic_gradient.py:574: ConvergenceWarning: Maximum number of iteration reached before convergence. Consider increasing max_iter to improve the fit.\n",
      "  warnings.warn(\"Maximum number of iteration reached before \"\n",
      "c:\\users\\laure\\onedrive\\documents\\umons\\2020-21\\q2\\machine learning\\projet\\venv\\lib\\site-packages\\sklearn\\linear_model\\_stochastic_gradient.py:574: ConvergenceWarning: Maximum number of iteration reached before convergence. Consider increasing max_iter to improve the fit.\n",
      "  warnings.warn(\"Maximum number of iteration reached before \"\n",
      "c:\\users\\laure\\onedrive\\documents\\umons\\2020-21\\q2\\machine learning\\projet\\venv\\lib\\site-packages\\sklearn\\linear_model\\_stochastic_gradient.py:574: ConvergenceWarning: Maximum number of iteration reached before convergence. Consider increasing max_iter to improve the fit.\n",
      "  warnings.warn(\"Maximum number of iteration reached before \"\n",
      "c:\\users\\laure\\onedrive\\documents\\umons\\2020-21\\q2\\machine learning\\projet\\venv\\lib\\site-packages\\sklearn\\linear_model\\_stochastic_gradient.py:574: ConvergenceWarning: Maximum number of iteration reached before convergence. Consider increasing max_iter to improve the fit.\n",
      "  warnings.warn(\"Maximum number of iteration reached before \"\n",
      "c:\\users\\laure\\onedrive\\documents\\umons\\2020-21\\q2\\machine learning\\projet\\venv\\lib\\site-packages\\sklearn\\linear_model\\_stochastic_gradient.py:574: ConvergenceWarning: Maximum number of iteration reached before convergence. Consider increasing max_iter to improve the fit.\n",
      "  warnings.warn(\"Maximum number of iteration reached before \"\n",
      "c:\\users\\laure\\onedrive\\documents\\umons\\2020-21\\q2\\machine learning\\projet\\venv\\lib\\site-packages\\sklearn\\linear_model\\_stochastic_gradient.py:574: ConvergenceWarning: Maximum number of iteration reached before convergence. Consider increasing max_iter to improve the fit.\n",
      "  warnings.warn(\"Maximum number of iteration reached before \"\n",
      "c:\\users\\laure\\onedrive\\documents\\umons\\2020-21\\q2\\machine learning\\projet\\venv\\lib\\site-packages\\sklearn\\linear_model\\_stochastic_gradient.py:574: ConvergenceWarning: Maximum number of iteration reached before convergence. Consider increasing max_iter to improve the fit.\n",
      "  warnings.warn(\"Maximum number of iteration reached before \"\n",
      "c:\\users\\laure\\onedrive\\documents\\umons\\2020-21\\q2\\machine learning\\projet\\venv\\lib\\site-packages\\sklearn\\linear_model\\_stochastic_gradient.py:574: ConvergenceWarning: Maximum number of iteration reached before convergence. Consider increasing max_iter to improve the fit.\n",
      "  warnings.warn(\"Maximum number of iteration reached before \"\n",
      "c:\\users\\laure\\onedrive\\documents\\umons\\2020-21\\q2\\machine learning\\projet\\venv\\lib\\site-packages\\sklearn\\linear_model\\_stochastic_gradient.py:574: ConvergenceWarning: Maximum number of iteration reached before convergence. Consider increasing max_iter to improve the fit.\n",
      "  warnings.warn(\"Maximum number of iteration reached before \"\n",
      "c:\\users\\laure\\onedrive\\documents\\umons\\2020-21\\q2\\machine learning\\projet\\venv\\lib\\site-packages\\sklearn\\linear_model\\_stochastic_gradient.py:574: ConvergenceWarning: Maximum number of iteration reached before convergence. Consider increasing max_iter to improve the fit.\n",
      "  warnings.warn(\"Maximum number of iteration reached before \"\n",
      "c:\\users\\laure\\onedrive\\documents\\umons\\2020-21\\q2\\machine learning\\projet\\venv\\lib\\site-packages\\sklearn\\linear_model\\_stochastic_gradient.py:574: ConvergenceWarning: Maximum number of iteration reached before convergence. Consider increasing max_iter to improve the fit.\n",
      "  warnings.warn(\"Maximum number of iteration reached before \"\n",
      "c:\\users\\laure\\onedrive\\documents\\umons\\2020-21\\q2\\machine learning\\projet\\venv\\lib\\site-packages\\sklearn\\linear_model\\_stochastic_gradient.py:574: ConvergenceWarning: Maximum number of iteration reached before convergence. Consider increasing max_iter to improve the fit.\n",
      "  warnings.warn(\"Maximum number of iteration reached before \"\n",
      "c:\\users\\laure\\onedrive\\documents\\umons\\2020-21\\q2\\machine learning\\projet\\venv\\lib\\site-packages\\sklearn\\linear_model\\_stochastic_gradient.py:574: ConvergenceWarning: Maximum number of iteration reached before convergence. Consider increasing max_iter to improve the fit.\n",
      "  warnings.warn(\"Maximum number of iteration reached before \"\n",
      "c:\\users\\laure\\onedrive\\documents\\umons\\2020-21\\q2\\machine learning\\projet\\venv\\lib\\site-packages\\sklearn\\linear_model\\_stochastic_gradient.py:574: ConvergenceWarning: Maximum number of iteration reached before convergence. Consider increasing max_iter to improve the fit.\n",
      "  warnings.warn(\"Maximum number of iteration reached before \"\n",
      "c:\\users\\laure\\onedrive\\documents\\umons\\2020-21\\q2\\machine learning\\projet\\venv\\lib\\site-packages\\sklearn\\linear_model\\_stochastic_gradient.py:574: ConvergenceWarning: Maximum number of iteration reached before convergence. Consider increasing max_iter to improve the fit.\n",
      "  warnings.warn(\"Maximum number of iteration reached before \"\n",
      "c:\\users\\laure\\onedrive\\documents\\umons\\2020-21\\q2\\machine learning\\projet\\venv\\lib\\site-packages\\sklearn\\linear_model\\_stochastic_gradient.py:574: ConvergenceWarning: Maximum number of iteration reached before convergence. Consider increasing max_iter to improve the fit.\n",
      "  warnings.warn(\"Maximum number of iteration reached before \"\n",
      "c:\\users\\laure\\onedrive\\documents\\umons\\2020-21\\q2\\machine learning\\projet\\venv\\lib\\site-packages\\sklearn\\linear_model\\_stochastic_gradient.py:574: ConvergenceWarning: Maximum number of iteration reached before convergence. Consider increasing max_iter to improve the fit.\n",
      "  warnings.warn(\"Maximum number of iteration reached before \"\n",
      "c:\\users\\laure\\onedrive\\documents\\umons\\2020-21\\q2\\machine learning\\projet\\venv\\lib\\site-packages\\sklearn\\linear_model\\_stochastic_gradient.py:574: ConvergenceWarning: Maximum number of iteration reached before convergence. Consider increasing max_iter to improve the fit.\n",
      "  warnings.warn(\"Maximum number of iteration reached before \"\n",
      "c:\\users\\laure\\onedrive\\documents\\umons\\2020-21\\q2\\machine learning\\projet\\venv\\lib\\site-packages\\sklearn\\linear_model\\_stochastic_gradient.py:574: ConvergenceWarning: Maximum number of iteration reached before convergence. Consider increasing max_iter to improve the fit.\n",
      "  warnings.warn(\"Maximum number of iteration reached before \"\n",
      "c:\\users\\laure\\onedrive\\documents\\umons\\2020-21\\q2\\machine learning\\projet\\venv\\lib\\site-packages\\sklearn\\linear_model\\_stochastic_gradient.py:574: ConvergenceWarning: Maximum number of iteration reached before convergence. Consider increasing max_iter to improve the fit.\n",
      "  warnings.warn(\"Maximum number of iteration reached before \"\n",
      "c:\\users\\laure\\onedrive\\documents\\umons\\2020-21\\q2\\machine learning\\projet\\venv\\lib\\site-packages\\sklearn\\linear_model\\_stochastic_gradient.py:574: ConvergenceWarning: Maximum number of iteration reached before convergence. Consider increasing max_iter to improve the fit.\n",
      "  warnings.warn(\"Maximum number of iteration reached before \"\n",
      "c:\\users\\laure\\onedrive\\documents\\umons\\2020-21\\q2\\machine learning\\projet\\venv\\lib\\site-packages\\sklearn\\linear_model\\_stochastic_gradient.py:574: ConvergenceWarning: Maximum number of iteration reached before convergence. Consider increasing max_iter to improve the fit.\n",
      "  warnings.warn(\"Maximum number of iteration reached before \"\n",
      "c:\\users\\laure\\onedrive\\documents\\umons\\2020-21\\q2\\machine learning\\projet\\venv\\lib\\site-packages\\sklearn\\linear_model\\_stochastic_gradient.py:574: ConvergenceWarning: Maximum number of iteration reached before convergence. Consider increasing max_iter to improve the fit.\n",
      "  warnings.warn(\"Maximum number of iteration reached before \"\n",
      "c:\\users\\laure\\onedrive\\documents\\umons\\2020-21\\q2\\machine learning\\projet\\venv\\lib\\site-packages\\sklearn\\linear_model\\_stochastic_gradient.py:574: ConvergenceWarning: Maximum number of iteration reached before convergence. Consider increasing max_iter to improve the fit.\n",
      "  warnings.warn(\"Maximum number of iteration reached before \"\n",
      "c:\\users\\laure\\onedrive\\documents\\umons\\2020-21\\q2\\machine learning\\projet\\venv\\lib\\site-packages\\sklearn\\linear_model\\_stochastic_gradient.py:574: ConvergenceWarning: Maximum number of iteration reached before convergence. Consider increasing max_iter to improve the fit.\n",
      "  warnings.warn(\"Maximum number of iteration reached before \"\n",
      "c:\\users\\laure\\onedrive\\documents\\umons\\2020-21\\q2\\machine learning\\projet\\venv\\lib\\site-packages\\sklearn\\linear_model\\_stochastic_gradient.py:574: ConvergenceWarning: Maximum number of iteration reached before convergence. Consider increasing max_iter to improve the fit.\n",
      "  warnings.warn(\"Maximum number of iteration reached before \"\n",
      "c:\\users\\laure\\onedrive\\documents\\umons\\2020-21\\q2\\machine learning\\projet\\venv\\lib\\site-packages\\sklearn\\linear_model\\_stochastic_gradient.py:574: ConvergenceWarning: Maximum number of iteration reached before convergence. Consider increasing max_iter to improve the fit.\n",
      "  warnings.warn(\"Maximum number of iteration reached before \"\n",
      "c:\\users\\laure\\onedrive\\documents\\umons\\2020-21\\q2\\machine learning\\projet\\venv\\lib\\site-packages\\sklearn\\linear_model\\_stochastic_gradient.py:574: ConvergenceWarning: Maximum number of iteration reached before convergence. Consider increasing max_iter to improve the fit.\n",
      "  warnings.warn(\"Maximum number of iteration reached before \"\n",
      "c:\\users\\laure\\onedrive\\documents\\umons\\2020-21\\q2\\machine learning\\projet\\venv\\lib\\site-packages\\sklearn\\linear_model\\_stochastic_gradient.py:574: ConvergenceWarning: Maximum number of iteration reached before convergence. Consider increasing max_iter to improve the fit.\n",
      "  warnings.warn(\"Maximum number of iteration reached before \"\n",
      "c:\\users\\laure\\onedrive\\documents\\umons\\2020-21\\q2\\machine learning\\projet\\venv\\lib\\site-packages\\sklearn\\linear_model\\_stochastic_gradient.py:574: ConvergenceWarning: Maximum number of iteration reached before convergence. Consider increasing max_iter to improve the fit.\n",
      "  warnings.warn(\"Maximum number of iteration reached before \"\n",
      "c:\\users\\laure\\onedrive\\documents\\umons\\2020-21\\q2\\machine learning\\projet\\venv\\lib\\site-packages\\sklearn\\linear_model\\_stochastic_gradient.py:574: ConvergenceWarning: Maximum number of iteration reached before convergence. Consider increasing max_iter to improve the fit.\n",
      "  warnings.warn(\"Maximum number of iteration reached before \"\n",
      "c:\\users\\laure\\onedrive\\documents\\umons\\2020-21\\q2\\machine learning\\projet\\venv\\lib\\site-packages\\sklearn\\linear_model\\_stochastic_gradient.py:574: ConvergenceWarning: Maximum number of iteration reached before convergence. Consider increasing max_iter to improve the fit.\n",
      "  warnings.warn(\"Maximum number of iteration reached before \"\n",
      "c:\\users\\laure\\onedrive\\documents\\umons\\2020-21\\q2\\machine learning\\projet\\venv\\lib\\site-packages\\sklearn\\linear_model\\_stochastic_gradient.py:574: ConvergenceWarning: Maximum number of iteration reached before convergence. Consider increasing max_iter to improve the fit.\n",
      "  warnings.warn(\"Maximum number of iteration reached before \"\n",
      "c:\\users\\laure\\onedrive\\documents\\umons\\2020-21\\q2\\machine learning\\projet\\venv\\lib\\site-packages\\sklearn\\linear_model\\_stochastic_gradient.py:574: ConvergenceWarning: Maximum number of iteration reached before convergence. Consider increasing max_iter to improve the fit.\n",
      "  warnings.warn(\"Maximum number of iteration reached before \"\n",
      "c:\\users\\laure\\onedrive\\documents\\umons\\2020-21\\q2\\machine learning\\projet\\venv\\lib\\site-packages\\sklearn\\linear_model\\_stochastic_gradient.py:574: ConvergenceWarning: Maximum number of iteration reached before convergence. Consider increasing max_iter to improve the fit.\n",
      "  warnings.warn(\"Maximum number of iteration reached before \"\n",
      "c:\\users\\laure\\onedrive\\documents\\umons\\2020-21\\q2\\machine learning\\projet\\venv\\lib\\site-packages\\sklearn\\linear_model\\_stochastic_gradient.py:574: ConvergenceWarning: Maximum number of iteration reached before convergence. Consider increasing max_iter to improve the fit.\n",
      "  warnings.warn(\"Maximum number of iteration reached before \"\n",
      "c:\\users\\laure\\onedrive\\documents\\umons\\2020-21\\q2\\machine learning\\projet\\venv\\lib\\site-packages\\sklearn\\linear_model\\_stochastic_gradient.py:574: ConvergenceWarning: Maximum number of iteration reached before convergence. Consider increasing max_iter to improve the fit.\n",
      "  warnings.warn(\"Maximum number of iteration reached before \"\n",
      "c:\\users\\laure\\onedrive\\documents\\umons\\2020-21\\q2\\machine learning\\projet\\venv\\lib\\site-packages\\sklearn\\linear_model\\_stochastic_gradient.py:574: ConvergenceWarning: Maximum number of iteration reached before convergence. Consider increasing max_iter to improve the fit.\n",
      "  warnings.warn(\"Maximum number of iteration reached before \"\n",
      "c:\\users\\laure\\onedrive\\documents\\umons\\2020-21\\q2\\machine learning\\projet\\venv\\lib\\site-packages\\sklearn\\linear_model\\_stochastic_gradient.py:574: ConvergenceWarning: Maximum number of iteration reached before convergence. Consider increasing max_iter to improve the fit.\n",
      "  warnings.warn(\"Maximum number of iteration reached before \"\n",
      "c:\\users\\laure\\onedrive\\documents\\umons\\2020-21\\q2\\machine learning\\projet\\venv\\lib\\site-packages\\sklearn\\linear_model\\_stochastic_gradient.py:574: ConvergenceWarning: Maximum number of iteration reached before convergence. Consider increasing max_iter to improve the fit.\n",
      "  warnings.warn(\"Maximum number of iteration reached before \"\n"
     ]
    },
    {
     "data": {
      "text/plain": "GridSearchCV(estimator=SGDClassifier(),\n             param_grid={'alpha': [0.0001, 0.001, 0.01, 0.1],\n                         'loss': ['hinge', 'log', 'squared_hinge',\n                                  'modified_huber'],\n                         'penalty': ['l2', 'l1', 'none']})"
     },
     "execution_count": 25,
     "metadata": {},
     "output_type": "execute_result"
    }
   ],
   "source": [
    "grid_params2 = {\n",
    "    \"loss\" : [\"hinge\", \"log\", \"squared_hinge\", \"modified_huber\"],\n",
    "    \"alpha\" : [0.0001, 0.001, 0.01, 0.1],\n",
    "    \"penalty\" : [\"l2\", \"l1\", \"none\"],\n",
    "}\n",
    "\n",
    "grid_search2 = GridSearchCV(\n",
    "    SGDClassifier(),\n",
    "    param_grid=grid_params2)\n",
    "grid_search2.fit(X_train_clean2, y_train)"
   ],
   "metadata": {
    "collapsed": false,
    "pycharm": {
     "name": "#%%\n"
    }
   }
  },
  {
   "cell_type": "code",
   "execution_count": 26,
   "outputs": [
    {
     "data": {
      "text/plain": "{'alpha': 0.001, 'loss': 'log', 'penalty': 'none'}"
     },
     "execution_count": 26,
     "metadata": {},
     "output_type": "execute_result"
    }
   ],
   "source": [
    "grid_search2.best_params_"
   ],
   "metadata": {
    "collapsed": false,
    "pycharm": {
     "name": "#%%\n"
    }
   }
  },
  {
   "cell_type": "code",
   "execution_count": 27,
   "outputs": [
    {
     "data": {
      "text/plain": "SGDClassifier(alpha=0.01, loss='modified_huber', penalty='none')"
     },
     "execution_count": 27,
     "metadata": {},
     "output_type": "execute_result"
    }
   ],
   "source": [
    "model2 = SGDClassifier(alpha=0.01, loss='modified_huber', penalty='none')\n",
    "model2.fit(X_train_clean2, y_train)"
   ],
   "metadata": {
    "collapsed": false,
    "pycharm": {
     "name": "#%%\n"
    }
   }
  },
  {
   "cell_type": "markdown",
   "source": [
    "Nettoyer le set de test"
   ],
   "metadata": {
    "collapsed": false,
    "pycharm": {
     "name": "#%% md\n"
    }
   }
  },
  {
   "cell_type": "code",
   "execution_count": 28,
   "outputs": [],
   "source": [
    "X_test_clean2 = selector2.transform(X_test_transf)"
   ],
   "metadata": {
    "collapsed": false,
    "pycharm": {
     "name": "#%%\n"
    }
   }
  },
  {
   "cell_type": "markdown",
   "source": [
    "Effectuer les prédictions de probabilités"
   ],
   "metadata": {
    "collapsed": false,
    "pycharm": {
     "name": "#%% md\n"
    }
   }
  },
  {
   "cell_type": "code",
   "execution_count": 29,
   "outputs": [],
   "source": [
    "y_test_proba2 = model2.predict_proba(X_test_clean2)"
   ],
   "metadata": {
    "collapsed": false,
    "pycharm": {
     "name": "#%%\n"
    }
   }
  },
  {
   "cell_type": "markdown",
   "source": [
    "Sauvegarder le résultat"
   ],
   "metadata": {
    "collapsed": false
   }
  },
  {
   "cell_type": "code",
   "execution_count": 30,
   "outputs": [
    {
     "data": {
      "text/plain": "              A         B         C         D         E\nindex                                                  \n1476   0.090909  0.545455  0.363636  0.000000  0.000000\n781    0.000000  0.000000  0.000000  0.827586  0.172414\n2374   0.000000  0.000000  0.181818  0.545455  0.272727\n270    0.272727  0.636364  0.090909  0.000000  0.000000\n9      0.000000  0.000000  1.000000  0.000000  0.000000\n...         ...       ...       ...       ...       ...\n804    0.090909  0.545455  0.363636  0.000000  0.000000\n1038   0.000000  0.272727  0.181818  0.545455  0.000000\n1531   0.000000  0.093023  0.860465  0.046512  0.000000\n1049   0.000000  0.000000  0.181818  0.545455  0.272727\n969    0.000000  0.000000  0.000000  0.875000  0.125000\n\n[967 rows x 5 columns]",
      "text/html": "<div>\n<style scoped>\n    .dataframe tbody tr th:only-of-type {\n        vertical-align: middle;\n    }\n\n    .dataframe tbody tr th {\n        vertical-align: top;\n    }\n\n    .dataframe thead th {\n        text-align: right;\n    }\n</style>\n<table border=\"1\" class=\"dataframe\">\n  <thead>\n    <tr style=\"text-align: right;\">\n      <th></th>\n      <th>A</th>\n      <th>B</th>\n      <th>C</th>\n      <th>D</th>\n      <th>E</th>\n    </tr>\n    <tr>\n      <th>index</th>\n      <th></th>\n      <th></th>\n      <th></th>\n      <th></th>\n      <th></th>\n    </tr>\n  </thead>\n  <tbody>\n    <tr>\n      <th>1476</th>\n      <td>0.090909</td>\n      <td>0.545455</td>\n      <td>0.363636</td>\n      <td>0.000000</td>\n      <td>0.000000</td>\n    </tr>\n    <tr>\n      <th>781</th>\n      <td>0.000000</td>\n      <td>0.000000</td>\n      <td>0.000000</td>\n      <td>0.827586</td>\n      <td>0.172414</td>\n    </tr>\n    <tr>\n      <th>2374</th>\n      <td>0.000000</td>\n      <td>0.000000</td>\n      <td>0.181818</td>\n      <td>0.545455</td>\n      <td>0.272727</td>\n    </tr>\n    <tr>\n      <th>270</th>\n      <td>0.272727</td>\n      <td>0.636364</td>\n      <td>0.090909</td>\n      <td>0.000000</td>\n      <td>0.000000</td>\n    </tr>\n    <tr>\n      <th>9</th>\n      <td>0.000000</td>\n      <td>0.000000</td>\n      <td>1.000000</td>\n      <td>0.000000</td>\n      <td>0.000000</td>\n    </tr>\n    <tr>\n      <th>...</th>\n      <td>...</td>\n      <td>...</td>\n      <td>...</td>\n      <td>...</td>\n      <td>...</td>\n    </tr>\n    <tr>\n      <th>804</th>\n      <td>0.090909</td>\n      <td>0.545455</td>\n      <td>0.363636</td>\n      <td>0.000000</td>\n      <td>0.000000</td>\n    </tr>\n    <tr>\n      <th>1038</th>\n      <td>0.000000</td>\n      <td>0.272727</td>\n      <td>0.181818</td>\n      <td>0.545455</td>\n      <td>0.000000</td>\n    </tr>\n    <tr>\n      <th>1531</th>\n      <td>0.000000</td>\n      <td>0.093023</td>\n      <td>0.860465</td>\n      <td>0.046512</td>\n      <td>0.000000</td>\n    </tr>\n    <tr>\n      <th>1049</th>\n      <td>0.000000</td>\n      <td>0.000000</td>\n      <td>0.181818</td>\n      <td>0.545455</td>\n      <td>0.272727</td>\n    </tr>\n    <tr>\n      <th>969</th>\n      <td>0.000000</td>\n      <td>0.000000</td>\n      <td>0.000000</td>\n      <td>0.875000</td>\n      <td>0.125000</td>\n    </tr>\n  </tbody>\n</table>\n<p>967 rows × 5 columns</p>\n</div>"
     },
     "execution_count": 30,
     "metadata": {},
     "output_type": "execute_result"
    }
   ],
   "source": [
    "df = pd.DataFrame(y_test_proba1, index=housing_test['index'], columns = ['A', 'B', 'C', 'D','E'])\n",
    "df.to_csv(\"res2_SGD.csv\")\n",
    "df"
   ],
   "metadata": {
    "collapsed": false,
    "pycharm": {
     "name": "#%%\n"
    }
   }
  },
  {
   "cell_type": "markdown",
   "source": [
    "## Cleaning 3 - RandomForest"
   ],
   "metadata": {
    "collapsed": false
   }
  },
  {
   "cell_type": "markdown",
   "source": [
    "Sélectionner les caractèristiques en fonction du modèle (Random Forest)"
   ],
   "metadata": {
    "collapsed": false
   }
  },
  {
   "cell_type": "code",
   "execution_count": 31,
   "outputs": [
    {
     "data": {
      "text/plain": "(1963, 28)"
     },
     "execution_count": 31,
     "metadata": {},
     "output_type": "execute_result"
    }
   ],
   "source": [
    "selector3 = RFECV(estimator=RandomForestClassifier(n_jobs=-1), step=0.1)\n",
    "X_train_clean3 = selector3.fit_transform(X_train_transf, y_train)\n",
    "X_train_clean3.shape"
   ],
   "metadata": {
    "collapsed": false,
    "pycharm": {
     "name": "#%%\n"
    }
   }
  },
  {
   "cell_type": "markdown",
   "source": [
    "## Modèle 3 - Random Forest"
   ],
   "metadata": {
    "collapsed": false
   }
  },
  {
   "cell_type": "markdown",
   "source": [
    "Trouver les hyperparamètres"
   ],
   "metadata": {
    "collapsed": false
   }
  },
  {
   "cell_type": "code",
   "execution_count": 32,
   "outputs": [
    {
     "data": {
      "text/plain": "GridSearchCV(cv=5, estimator=RandomForestClassifier(random_state=42),\n             param_grid={'criterion': ['gini', 'entropy'],\n                         'max_depth': [4, 5, 6, 7, 8],\n                         'max_features': ['auto', 'sqrt', 'log2'],\n                         'n_estimators': [200, 500]})"
     },
     "execution_count": 32,
     "metadata": {},
     "output_type": "execute_result"
    }
   ],
   "source": [
    "grid_params3 = {\n",
    "    'n_estimators': [200, 500],\n",
    "    'max_features': ['auto', 'sqrt', 'log2'],\n",
    "    'max_depth' : [4,5,6,7,8],\n",
    "    'criterion' :['gini', 'entropy']}\n",
    "\n",
    "grid_search3 = GridSearchCV(\n",
    "    estimator=RandomForestClassifier(random_state=42),\n",
    "    param_grid=grid_params3,\n",
    "    cv= 5)\n",
    "grid_search3.fit(X_train_clean3, y_train)"
   ],
   "metadata": {
    "collapsed": false,
    "pycharm": {
     "name": "#%%\n"
    }
   }
  },
  {
   "cell_type": "code",
   "execution_count": 33,
   "outputs": [
    {
     "data": {
      "text/plain": "{'criterion': 'entropy',\n 'max_depth': 8,\n 'max_features': 'auto',\n 'n_estimators': 200}"
     },
     "execution_count": 33,
     "metadata": {},
     "output_type": "execute_result"
    }
   ],
   "source": [
    "grid_search3.best_params_"
   ],
   "metadata": {
    "collapsed": false,
    "pycharm": {
     "name": "#%%\n"
    }
   }
  },
  {
   "cell_type": "markdown",
   "source": [
    "Entrainer le modèle"
   ],
   "metadata": {
    "collapsed": false,
    "pycharm": {
     "name": "#%% md\n"
    }
   }
  },
  {
   "cell_type": "code",
   "execution_count": 34,
   "outputs": [
    {
     "data": {
      "text/plain": "RandomForestClassifier(criterion='entropy', max_depth=8, n_estimators=500)"
     },
     "execution_count": 34,
     "metadata": {},
     "output_type": "execute_result"
    }
   ],
   "source": [
    "model3 = RandomForestClassifier(criterion='entropy', max_depth=8, max_features='auto', n_estimators=500)\n",
    "model3.fit(X_train_clean3, y_train)"
   ],
   "metadata": {
    "collapsed": false,
    "pycharm": {
     "name": "#%%\n"
    }
   }
  },
  {
   "cell_type": "markdown",
   "source": [
    "Nettoyer le set de test"
   ],
   "metadata": {
    "collapsed": false,
    "pycharm": {
     "name": "#%% md\n"
    }
   }
  },
  {
   "cell_type": "code",
   "execution_count": 35,
   "outputs": [],
   "source": [
    "X_test_clean3 = selector3.transform(X_test_transf)"
   ],
   "metadata": {
    "collapsed": false,
    "pycharm": {
     "name": "#%%\n"
    }
   }
  },
  {
   "cell_type": "markdown",
   "source": [
    "Effectuer les prédictions de probabilités"
   ],
   "metadata": {
    "collapsed": false,
    "pycharm": {
     "name": "#%% md\n"
    }
   }
  },
  {
   "cell_type": "code",
   "execution_count": 36,
   "outputs": [],
   "source": [
    "y_test_proba3 = model3.predict_proba(X_test_clean3)"
   ],
   "metadata": {
    "collapsed": false,
    "pycharm": {
     "name": "#%%\n"
    }
   }
  },
  {
   "cell_type": "markdown",
   "source": [
    "Sauvegarder le résultat"
   ],
   "metadata": {
    "collapsed": false
   }
  },
  {
   "cell_type": "code",
   "execution_count": 37,
   "outputs": [
    {
     "data": {
      "text/plain": "              A         B         C         D         E\nindex                                                  \n1476   0.003625  0.136561  0.798019  0.060875  0.000920\n781    0.015838  0.134602  0.247124  0.461359  0.141077\n2374   0.000034  0.023535  0.124680  0.704581  0.147170\n270    0.291522  0.654907  0.050609  0.002926  0.000036\n9      0.017844  0.333231  0.527308  0.107551  0.014066\n...         ...       ...       ...       ...       ...\n804    0.053267  0.662525  0.264017  0.017458  0.002732\n1038   0.010934  0.288834  0.568551  0.129634  0.002048\n1531   0.001702  0.064961  0.278464  0.465738  0.189135\n1049   0.000079  0.000218  0.003648  0.419365  0.576691\n969    0.000000  0.001744  0.023458  0.747077  0.227721\n\n[967 rows x 5 columns]",
      "text/html": "<div>\n<style scoped>\n    .dataframe tbody tr th:only-of-type {\n        vertical-align: middle;\n    }\n\n    .dataframe tbody tr th {\n        vertical-align: top;\n    }\n\n    .dataframe thead th {\n        text-align: right;\n    }\n</style>\n<table border=\"1\" class=\"dataframe\">\n  <thead>\n    <tr style=\"text-align: right;\">\n      <th></th>\n      <th>A</th>\n      <th>B</th>\n      <th>C</th>\n      <th>D</th>\n      <th>E</th>\n    </tr>\n    <tr>\n      <th>index</th>\n      <th></th>\n      <th></th>\n      <th></th>\n      <th></th>\n      <th></th>\n    </tr>\n  </thead>\n  <tbody>\n    <tr>\n      <th>1476</th>\n      <td>0.003625</td>\n      <td>0.136561</td>\n      <td>0.798019</td>\n      <td>0.060875</td>\n      <td>0.000920</td>\n    </tr>\n    <tr>\n      <th>781</th>\n      <td>0.015838</td>\n      <td>0.134602</td>\n      <td>0.247124</td>\n      <td>0.461359</td>\n      <td>0.141077</td>\n    </tr>\n    <tr>\n      <th>2374</th>\n      <td>0.000034</td>\n      <td>0.023535</td>\n      <td>0.124680</td>\n      <td>0.704581</td>\n      <td>0.147170</td>\n    </tr>\n    <tr>\n      <th>270</th>\n      <td>0.291522</td>\n      <td>0.654907</td>\n      <td>0.050609</td>\n      <td>0.002926</td>\n      <td>0.000036</td>\n    </tr>\n    <tr>\n      <th>9</th>\n      <td>0.017844</td>\n      <td>0.333231</td>\n      <td>0.527308</td>\n      <td>0.107551</td>\n      <td>0.014066</td>\n    </tr>\n    <tr>\n      <th>...</th>\n      <td>...</td>\n      <td>...</td>\n      <td>...</td>\n      <td>...</td>\n      <td>...</td>\n    </tr>\n    <tr>\n      <th>804</th>\n      <td>0.053267</td>\n      <td>0.662525</td>\n      <td>0.264017</td>\n      <td>0.017458</td>\n      <td>0.002732</td>\n    </tr>\n    <tr>\n      <th>1038</th>\n      <td>0.010934</td>\n      <td>0.288834</td>\n      <td>0.568551</td>\n      <td>0.129634</td>\n      <td>0.002048</td>\n    </tr>\n    <tr>\n      <th>1531</th>\n      <td>0.001702</td>\n      <td>0.064961</td>\n      <td>0.278464</td>\n      <td>0.465738</td>\n      <td>0.189135</td>\n    </tr>\n    <tr>\n      <th>1049</th>\n      <td>0.000079</td>\n      <td>0.000218</td>\n      <td>0.003648</td>\n      <td>0.419365</td>\n      <td>0.576691</td>\n    </tr>\n    <tr>\n      <th>969</th>\n      <td>0.000000</td>\n      <td>0.001744</td>\n      <td>0.023458</td>\n      <td>0.747077</td>\n      <td>0.227721</td>\n    </tr>\n  </tbody>\n</table>\n<p>967 rows × 5 columns</p>\n</div>"
     },
     "execution_count": 37,
     "metadata": {},
     "output_type": "execute_result"
    }
   ],
   "source": [
    "df = pd.DataFrame(y_test_proba3, index=housing_test['index'], columns = ['A', 'B', 'C', 'D','E'])\n",
    "df.to_csv(\"res3_random_forest.csv\")\n",
    "df"
   ],
   "metadata": {
    "collapsed": false,
    "pycharm": {
     "name": "#%%\n"
    }
   }
  },
  {
   "cell_type": "markdown",
   "source": [
    "## Cleaning 4 - RandomForest 2"
   ],
   "metadata": {
    "collapsed": false
   }
  },
  {
   "cell_type": "markdown",
   "source": [
    "Sélectionner les caractèristiques en fonction du modèle (Random Forest)"
   ],
   "metadata": {
    "collapsed": false
   }
  },
  {
   "cell_type": "code",
   "execution_count": 51,
   "outputs": [
    {
     "data": {
      "text/plain": "(1963, 28)"
     },
     "execution_count": 51,
     "metadata": {},
     "output_type": "execute_result"
    }
   ],
   "source": [
    "selector4 = SequentialFeatureSelector(RandomForestClassifier(),\n",
    "                                    n_features_to_select=28,\n",
    "                                    direction='forward')\n",
    "X_train_clean4 = selector4.fit_transform(X_train_transf, y_train)\n",
    "X_train_clean4.shape"
   ],
   "metadata": {
    "collapsed": false,
    "pycharm": {
     "name": "#%%\n"
    }
   }
  },
  {
   "cell_type": "markdown",
   "source": [
    "## Modèle 4 - RandomForest 2"
   ],
   "metadata": {
    "collapsed": false
   }
  },
  {
   "cell_type": "markdown",
   "source": [
    "Trouver les hyperparamètres"
   ],
   "metadata": {
    "collapsed": false
   }
  },
  {
   "cell_type": "code",
   "execution_count": 52,
   "outputs": [
    {
     "data": {
      "text/plain": "GridSearchCV(cv=5, estimator=RandomForestClassifier(random_state=42),\n             param_grid={'criterion': ['gini', 'entropy'],\n                         'max_depth': [4, 5, 6, 7, 8],\n                         'max_features': ['auto', 'sqrt', 'log2'],\n                         'n_estimators': [200, 500]})"
     },
     "execution_count": 52,
     "metadata": {},
     "output_type": "execute_result"
    }
   ],
   "source": [
    "grid_search4 = GridSearchCV(\n",
    "    estimator=RandomForestClassifier(random_state=42),\n",
    "    param_grid=grid_params3,\n",
    "    cv= 5)\n",
    "grid_search4.fit(X_train_clean4, y_train)"
   ],
   "metadata": {
    "collapsed": false,
    "pycharm": {
     "name": "#%%\n"
    }
   }
  },
  {
   "cell_type": "code",
   "execution_count": 53,
   "outputs": [
    {
     "data": {
      "text/plain": "{'criterion': 'entropy',\n 'max_depth': 8,\n 'max_features': 'log2',\n 'n_estimators': 500}"
     },
     "execution_count": 53,
     "metadata": {},
     "output_type": "execute_result"
    }
   ],
   "source": [
    "grid_search4.best_params_"
   ],
   "metadata": {
    "collapsed": false,
    "pycharm": {
     "name": "#%%\n"
    }
   }
  },
  {
   "cell_type": "markdown",
   "source": [
    "Entrainer le modèle"
   ],
   "metadata": {
    "collapsed": false
   }
  },
  {
   "cell_type": "code",
   "execution_count": 59,
   "outputs": [
    {
     "data": {
      "text/plain": "RandomForestClassifier(criterion='entropy', max_depth=8, max_features='log2',\n                       n_estimators=500)"
     },
     "execution_count": 59,
     "metadata": {},
     "output_type": "execute_result"
    }
   ],
   "source": [
    "model4 = RandomForestClassifier(criterion='entropy', max_depth=8, max_features='log2', n_estimators=500)\n",
    "model4.fit(X_train_clean4, y_train)"
   ],
   "metadata": {
    "collapsed": false,
    "pycharm": {
     "name": "#%%\n"
    }
   }
  },
  {
   "cell_type": "markdown",
   "source": [
    "Nettoyer le set de test"
   ],
   "metadata": {
    "collapsed": false
   }
  },
  {
   "cell_type": "code",
   "execution_count": 60,
   "outputs": [
    {
     "data": {
      "text/plain": "(967, 28)"
     },
     "execution_count": 60,
     "metadata": {},
     "output_type": "execute_result"
    }
   ],
   "source": [
    "X_test_clean4 = selector4.transform(X_test_transf)\n",
    "X_test_clean4.shape"
   ],
   "metadata": {
    "collapsed": false,
    "pycharm": {
     "name": "#%%\n"
    }
   }
  },
  {
   "cell_type": "markdown",
   "source": [
    "Effectuer les prédictions de probabilités"
   ],
   "metadata": {
    "collapsed": false
   }
  },
  {
   "cell_type": "code",
   "execution_count": 61,
   "outputs": [],
   "source": [
    "y_test_proba4 = model4.predict_proba(X_test_clean4)"
   ],
   "metadata": {
    "collapsed": false,
    "pycharm": {
     "name": "#%%\n"
    }
   }
  },
  {
   "cell_type": "markdown",
   "source": [
    "Sauvegarder le résultat"
   ],
   "metadata": {
    "collapsed": false
   }
  },
  {
   "cell_type": "code",
   "execution_count": 62,
   "outputs": [
    {
     "data": {
      "text/plain": "              A         B         C         D         E\nindex                                                  \n1476   0.010274  0.266517  0.661540  0.059812  0.001856\n781    0.022043  0.187118  0.294509  0.415794  0.080536\n2374   0.000355  0.022003  0.147037  0.671454  0.159151\n270    0.284897  0.621124  0.088448  0.005302  0.000229\n9      0.041908  0.481674  0.390992  0.078743  0.006683\n...         ...       ...       ...       ...       ...\n804    0.092721  0.678633  0.212450  0.015435  0.000762\n1038   0.011012  0.235597  0.567131  0.171899  0.014360\n1531   0.020465  0.167243  0.305751  0.390508  0.116033\n1049   0.000090  0.000807  0.013079  0.488781  0.497243\n969    0.000114  0.004717  0.045088  0.679057  0.271024\n\n[967 rows x 5 columns]",
      "text/html": "<div>\n<style scoped>\n    .dataframe tbody tr th:only-of-type {\n        vertical-align: middle;\n    }\n\n    .dataframe tbody tr th {\n        vertical-align: top;\n    }\n\n    .dataframe thead th {\n        text-align: right;\n    }\n</style>\n<table border=\"1\" class=\"dataframe\">\n  <thead>\n    <tr style=\"text-align: right;\">\n      <th></th>\n      <th>A</th>\n      <th>B</th>\n      <th>C</th>\n      <th>D</th>\n      <th>E</th>\n    </tr>\n    <tr>\n      <th>index</th>\n      <th></th>\n      <th></th>\n      <th></th>\n      <th></th>\n      <th></th>\n    </tr>\n  </thead>\n  <tbody>\n    <tr>\n      <th>1476</th>\n      <td>0.010274</td>\n      <td>0.266517</td>\n      <td>0.661540</td>\n      <td>0.059812</td>\n      <td>0.001856</td>\n    </tr>\n    <tr>\n      <th>781</th>\n      <td>0.022043</td>\n      <td>0.187118</td>\n      <td>0.294509</td>\n      <td>0.415794</td>\n      <td>0.080536</td>\n    </tr>\n    <tr>\n      <th>2374</th>\n      <td>0.000355</td>\n      <td>0.022003</td>\n      <td>0.147037</td>\n      <td>0.671454</td>\n      <td>0.159151</td>\n    </tr>\n    <tr>\n      <th>270</th>\n      <td>0.284897</td>\n      <td>0.621124</td>\n      <td>0.088448</td>\n      <td>0.005302</td>\n      <td>0.000229</td>\n    </tr>\n    <tr>\n      <th>9</th>\n      <td>0.041908</td>\n      <td>0.481674</td>\n      <td>0.390992</td>\n      <td>0.078743</td>\n      <td>0.006683</td>\n    </tr>\n    <tr>\n      <th>...</th>\n      <td>...</td>\n      <td>...</td>\n      <td>...</td>\n      <td>...</td>\n      <td>...</td>\n    </tr>\n    <tr>\n      <th>804</th>\n      <td>0.092721</td>\n      <td>0.678633</td>\n      <td>0.212450</td>\n      <td>0.015435</td>\n      <td>0.000762</td>\n    </tr>\n    <tr>\n      <th>1038</th>\n      <td>0.011012</td>\n      <td>0.235597</td>\n      <td>0.567131</td>\n      <td>0.171899</td>\n      <td>0.014360</td>\n    </tr>\n    <tr>\n      <th>1531</th>\n      <td>0.020465</td>\n      <td>0.167243</td>\n      <td>0.305751</td>\n      <td>0.390508</td>\n      <td>0.116033</td>\n    </tr>\n    <tr>\n      <th>1049</th>\n      <td>0.000090</td>\n      <td>0.000807</td>\n      <td>0.013079</td>\n      <td>0.488781</td>\n      <td>0.497243</td>\n    </tr>\n    <tr>\n      <th>969</th>\n      <td>0.000114</td>\n      <td>0.004717</td>\n      <td>0.045088</td>\n      <td>0.679057</td>\n      <td>0.271024</td>\n    </tr>\n  </tbody>\n</table>\n<p>967 rows × 5 columns</p>\n</div>"
     },
     "execution_count": 62,
     "metadata": {},
     "output_type": "execute_result"
    }
   ],
   "source": [
    "df = pd.DataFrame(y_test_proba4, index=housing_test['index'], columns = ['A', 'B', 'C', 'D','E'])\n",
    "df.to_csv(\"res4_random_forest2.csv\")\n",
    "df"
   ],
   "metadata": {
    "collapsed": false,
    "pycharm": {
     "name": "#%%\n"
    }
   }
  }
 ],
 "metadata": {
  "kernelspec": {
   "display_name": "Python 3",
   "language": "python",
   "name": "python3"
  },
  "language_info": {
   "codemirror_mode": {
    "name": "ipython",
    "version": 2
   },
   "file_extension": ".py",
   "mimetype": "text/x-python",
   "name": "python",
   "nbconvert_exporter": "python",
   "pygments_lexer": "ipython2",
   "version": "2.7.6"
  }
 },
 "nbformat": 4,
 "nbformat_minor": 0
}